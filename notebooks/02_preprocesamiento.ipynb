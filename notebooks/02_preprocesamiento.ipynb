{
 "cells": [
  {
   "cell_type": "markdown",
   "metadata": {},
   "source": [
    "# **Preprocesamiento de datos.**\n",
    "El preprocesamiento de datos es una etapa fundamental en la construcción de cualquier modelo de predicción. En este notebook, aplicaremos técnicas para **limpiar, transformar y preparar el dataset** antes de su uso en el modelado.\n",
    "\n",
    "Dado que en el análisis exploratorio del notebook anterior, identificamos la presencia de **valores nulos, datos duplicados, variables categóricas y valores atípicos**, en esta fase nos enfocaremos en:\n",
    "- **Manejo de valores nulos** mediante eliminación o imputación.\n",
    "- **Eliminación de duplicados** para evitar sesgos en el modelo.\n",
    "- **Conversión y corrección de tipos de datos** para garantizar coherencia.\n",
    "- **Transformación y codificación de variables categóricas** para su uso en modelos predictivos.\n",
    "- **Estandarización o normalización de variables numéricas**, si es necesario.\n",
    "\n",
    "Al finalizar este proceso, guardaremos un **dataset limpio en `data/processed/`**, que servirá como insumo en la siguiente fase de modelado."
   ]
  },
  {
   "cell_type": "markdown",
   "metadata": {},
   "source": [
    "## Importación de librerías."
   ]
  },
  {
   "cell_type": "code",
   "execution_count": 245,
   "metadata": {},
   "outputs": [],
   "source": [
    "import pandas as pd\n",
    "from sklearn.preprocessing import OrdinalEncoder, LabelEncoder\n",
    "\n",
    "pd.set_option('display.max_columns', None)\n",
    "pd.set_option('display.width', 1000)"
   ]
  },
  {
   "cell_type": "markdown",
   "metadata": {},
   "source": [
    "## Importación e información de Dataframes."
   ]
  },
  {
   "cell_type": "code",
   "execution_count": 246,
   "metadata": {},
   "outputs": [
    {
     "data": {
      "text/html": [
       "<div>\n",
       "<style scoped>\n",
       "    .dataframe tbody tr th:only-of-type {\n",
       "        vertical-align: middle;\n",
       "    }\n",
       "\n",
       "    .dataframe tbody tr th {\n",
       "        vertical-align: top;\n",
       "    }\n",
       "\n",
       "    .dataframe thead th {\n",
       "        text-align: right;\n",
       "    }\n",
       "</style>\n",
       "<table border=\"1\" class=\"dataframe\">\n",
       "  <thead>\n",
       "    <tr style=\"text-align: right;\">\n",
       "      <th></th>\n",
       "      <th>PRODUCTO</th>\n",
       "      <th>TIPO_CARROCERIA</th>\n",
       "      <th>COMBUSTIBLE</th>\n",
       "      <th>Potencia</th>\n",
       "      <th>TRANS</th>\n",
       "      <th>FORMA_PAGO</th>\n",
       "      <th>ESTADO_CIVIL</th>\n",
       "      <th>GENERO</th>\n",
       "      <th>OcupaciOn</th>\n",
       "      <th>PROVINCIA</th>\n",
       "      <th>Campanna1</th>\n",
       "      <th>Campanna2</th>\n",
       "      <th>Campanna3</th>\n",
       "      <th>Zona_Renta</th>\n",
       "      <th>REV_Garantia</th>\n",
       "      <th>Averia_grave</th>\n",
       "      <th>QUEJA_CAC</th>\n",
       "      <th>COSTE_VENTA</th>\n",
       "      <th>km_anno</th>\n",
       "      <th>Mas_1_coche</th>\n",
       "      <th>Revisiones</th>\n",
       "      <th>Edad_Cliente</th>\n",
       "      <th>Tiempo</th>\n",
       "    </tr>\n",
       "    <tr>\n",
       "      <th>CODE</th>\n",
       "      <th></th>\n",
       "      <th></th>\n",
       "      <th></th>\n",
       "      <th></th>\n",
       "      <th></th>\n",
       "      <th></th>\n",
       "      <th></th>\n",
       "      <th></th>\n",
       "      <th></th>\n",
       "      <th></th>\n",
       "      <th></th>\n",
       "      <th></th>\n",
       "      <th></th>\n",
       "      <th></th>\n",
       "      <th></th>\n",
       "      <th></th>\n",
       "      <th></th>\n",
       "      <th></th>\n",
       "      <th></th>\n",
       "      <th></th>\n",
       "      <th></th>\n",
       "      <th></th>\n",
       "      <th></th>\n",
       "    </tr>\n",
       "  </thead>\n",
       "  <tbody>\n",
       "    <tr>\n",
       "      <th>CLI1</th>\n",
       "      <td>A</td>\n",
       "      <td>TIPO1</td>\n",
       "      <td>FUEL 1</td>\n",
       "      <td>Baja</td>\n",
       "      <td>M</td>\n",
       "      <td>Contado</td>\n",
       "      <td>CASADO</td>\n",
       "      <td>M</td>\n",
       "      <td>Empresa</td>\n",
       "      <td>Asturias</td>\n",
       "      <td>SI</td>\n",
       "      <td>NO</td>\n",
       "      <td>NO</td>\n",
       "      <td>Medio-Bajo</td>\n",
       "      <td>NO DATA</td>\n",
       "      <td>Averia muy grave</td>\n",
       "      <td>SI</td>\n",
       "      <td>2892</td>\n",
       "      <td>0</td>\n",
       "      <td>False</td>\n",
       "      <td>2</td>\n",
       "      <td>18</td>\n",
       "      <td>0</td>\n",
       "    </tr>\n",
       "    <tr>\n",
       "      <th>CLI2</th>\n",
       "      <td>A</td>\n",
       "      <td>TIPO1</td>\n",
       "      <td>FUEL 1</td>\n",
       "      <td>Baja</td>\n",
       "      <td>M</td>\n",
       "      <td>Contado</td>\n",
       "      <td>CASADO</td>\n",
       "      <td>F</td>\n",
       "      <td>Empresa</td>\n",
       "      <td>Toledo</td>\n",
       "      <td>NO</td>\n",
       "      <td>NO</td>\n",
       "      <td>NO</td>\n",
       "      <td>Medio-Bajo</td>\n",
       "      <td>SI</td>\n",
       "      <td>No</td>\n",
       "      <td>NO</td>\n",
       "      <td>1376</td>\n",
       "      <td>7187</td>\n",
       "      <td>False</td>\n",
       "      <td>2</td>\n",
       "      <td>53</td>\n",
       "      <td>0</td>\n",
       "    </tr>\n",
       "    <tr>\n",
       "      <th>CLI3</th>\n",
       "      <td>A</td>\n",
       "      <td>TIPO1</td>\n",
       "      <td>FUEL 1</td>\n",
       "      <td>Baja</td>\n",
       "      <td>M</td>\n",
       "      <td>Otros</td>\n",
       "      <td>CASADO</td>\n",
       "      <td>M</td>\n",
       "      <td>Empresa</td>\n",
       "      <td>Lerida</td>\n",
       "      <td>NO</td>\n",
       "      <td>NO</td>\n",
       "      <td>NO</td>\n",
       "      <td>Medio</td>\n",
       "      <td>NO DATA</td>\n",
       "      <td>No</td>\n",
       "      <td>NO</td>\n",
       "      <td>1376</td>\n",
       "      <td>0</td>\n",
       "      <td>True</td>\n",
       "      <td>4</td>\n",
       "      <td>21</td>\n",
       "      <td>3</td>\n",
       "    </tr>\n",
       "    <tr>\n",
       "      <th>CLI4</th>\n",
       "      <td>A</td>\n",
       "      <td>TIPO1</td>\n",
       "      <td>FUEL 1</td>\n",
       "      <td>Baja</td>\n",
       "      <td>M</td>\n",
       "      <td>Financiera Marca</td>\n",
       "      <td>CASADO</td>\n",
       "      <td>F</td>\n",
       "      <td>Empresa</td>\n",
       "      <td>Madrid</td>\n",
       "      <td>SI</td>\n",
       "      <td>NO</td>\n",
       "      <td>NO</td>\n",
       "      <td>Medio</td>\n",
       "      <td>SI</td>\n",
       "      <td>Averia muy grave</td>\n",
       "      <td>SI</td>\n",
       "      <td>2015</td>\n",
       "      <td>7256</td>\n",
       "      <td>True</td>\n",
       "      <td>4</td>\n",
       "      <td>48</td>\n",
       "      <td>5</td>\n",
       "    </tr>\n",
       "    <tr>\n",
       "      <th>CLI5</th>\n",
       "      <td>A</td>\n",
       "      <td>TIPO1</td>\n",
       "      <td>FUEL 1</td>\n",
       "      <td>Baja</td>\n",
       "      <td>M</td>\n",
       "      <td>Financiera Marca</td>\n",
       "      <td>CASADO</td>\n",
       "      <td>F</td>\n",
       "      <td>Funcionario</td>\n",
       "      <td>Santa Cruz de Tenerife</td>\n",
       "      <td>SI</td>\n",
       "      <td>NO</td>\n",
       "      <td>SI</td>\n",
       "      <td>Alto</td>\n",
       "      <td>NO DATA</td>\n",
       "      <td>No</td>\n",
       "      <td>NO</td>\n",
       "      <td>1818</td>\n",
       "      <td>0</td>\n",
       "      <td>True</td>\n",
       "      <td>3</td>\n",
       "      <td>21</td>\n",
       "      <td>3</td>\n",
       "    </tr>\n",
       "  </tbody>\n",
       "</table>\n",
       "</div>"
      ],
      "text/plain": [
       "     PRODUCTO TIPO_CARROCERIA COMBUSTIBLE Potencia TRANS        FORMA_PAGO ESTADO_CIVIL GENERO    OcupaciOn               PROVINCIA Campanna1 Campanna2 Campanna3  Zona_Renta REV_Garantia      Averia_grave QUEJA_CAC  COSTE_VENTA  km_anno  Mas_1_coche  Revisiones  Edad_Cliente  Tiempo\n",
       "CODE                                                                                                                                                                                                                                                                                       \n",
       "CLI1        A           TIPO1      FUEL 1     Baja     M           Contado       CASADO      M      Empresa                Asturias        SI        NO        NO  Medio-Bajo      NO DATA  Averia muy grave        SI         2892        0        False           2            18       0\n",
       "CLI2        A           TIPO1      FUEL 1     Baja     M           Contado       CASADO      F      Empresa                  Toledo        NO        NO        NO  Medio-Bajo           SI                No        NO         1376     7187        False           2            53       0\n",
       "CLI3        A           TIPO1      FUEL 1     Baja     M             Otros       CASADO      M      Empresa                  Lerida        NO        NO        NO       Medio      NO DATA                No        NO         1376        0         True           4            21       3\n",
       "CLI4        A           TIPO1      FUEL 1     Baja     M  Financiera Marca       CASADO      F      Empresa                  Madrid        SI        NO        NO       Medio           SI  Averia muy grave        SI         2015     7256         True           4            48       5\n",
       "CLI5        A           TIPO1      FUEL 1     Baja     M  Financiera Marca       CASADO      F  Funcionario  Santa Cruz de Tenerife        SI        NO        SI        Alto      NO DATA                No        NO         1818        0         True           3            21       3"
      ]
     },
     "execution_count": 246,
     "metadata": {},
     "output_type": "execute_result"
    }
   ],
   "source": [
    "df = pd.read_csv('../data/raw/IA_PROPENSITY_TRAIN.csv', index_col=0)\n",
    "df.head()"
   ]
  },
  {
   "cell_type": "code",
   "execution_count": 247,
   "metadata": {},
   "outputs": [
    {
     "data": {
      "text/plain": [
       "(58049, 23)"
      ]
     },
     "execution_count": 247,
     "metadata": {},
     "output_type": "execute_result"
    }
   ],
   "source": [
    "df.shape"
   ]
  },
  {
   "cell_type": "code",
   "execution_count": 248,
   "metadata": {},
   "outputs": [
    {
     "name": "stdout",
     "output_type": "stream",
     "text": [
      "<class 'pandas.core.frame.DataFrame'>\n",
      "Index: 58049 entries, CLI1 to CLI58048\n",
      "Data columns (total 23 columns):\n",
      " #   Column           Non-Null Count  Dtype \n",
      "---  ------           --------------  ----- \n",
      " 0   PRODUCTO         58049 non-null  object\n",
      " 1   TIPO_CARROCERIA  58049 non-null  object\n",
      " 2   COMBUSTIBLE      58049 non-null  object\n",
      " 3   Potencia         58049 non-null  object\n",
      " 4   TRANS            58049 non-null  object\n",
      " 5   FORMA_PAGO       58049 non-null  object\n",
      " 6   ESTADO_CIVIL     57159 non-null  object\n",
      " 7   GENERO           57189 non-null  object\n",
      " 8   OcupaciOn        58049 non-null  object\n",
      " 9   PROVINCIA        58049 non-null  object\n",
      " 10  Campanna1        58049 non-null  object\n",
      " 11  Campanna2        58049 non-null  object\n",
      " 12  Campanna3        58049 non-null  object\n",
      " 13  Zona_Renta       44871 non-null  object\n",
      " 14  REV_Garantia     58049 non-null  object\n",
      " 15  Averia_grave     58048 non-null  object\n",
      " 16  QUEJA_CAC        58049 non-null  object\n",
      " 17  COSTE_VENTA      58049 non-null  int64 \n",
      " 18  km_anno          58049 non-null  int64 \n",
      " 19  Mas_1_coche      58049 non-null  bool  \n",
      " 20  Revisiones       58049 non-null  int64 \n",
      " 21  Edad_Cliente     58049 non-null  int64 \n",
      " 22  Tiempo           58049 non-null  int64 \n",
      "dtypes: bool(1), int64(5), object(17)\n",
      "memory usage: 10.2+ MB\n"
     ]
    }
   ],
   "source": [
    "df.info()"
   ]
  },
  {
   "cell_type": "code",
   "execution_count": 249,
   "metadata": {},
   "outputs": [
    {
     "data": {
      "text/plain": [
       "Index(['PRODUCTO', 'TIPO_CARROCERIA', 'COMBUSTIBLE', 'Potencia', 'TRANS', 'FORMA_PAGO', 'ESTADO_CIVIL', 'GENERO', 'OcupaciOn', 'PROVINCIA', 'Campanna1', 'Campanna2', 'Campanna3', 'Zona_Renta', 'REV_Garantia', 'Averia_grave', 'QUEJA_CAC', 'COSTE_VENTA', 'km_anno', 'Mas_1_coche', 'Revisiones', 'Edad_Cliente', 'Tiempo'], dtype='object')"
      ]
     },
     "execution_count": 249,
     "metadata": {},
     "output_type": "execute_result"
    }
   ],
   "source": [
    "df.columns"
   ]
  },
  {
   "cell_type": "markdown",
   "metadata": {},
   "source": [
    "A continuación se describen las variables incluidas en el dataset, utilizadas para el análisis de propensión de compra de vehículos.\n",
    "- **Code.** Código único que identifica a cada cliente.\n",
    "- **Producto.** Modelo o tipo de coche adquirido por el cliente.\n",
    "- **Tipo de Carroceria.** Tipo de carrocería del vehículo (SUV, sedán, coupé, etc.).\n",
    "- **Combustible.** Tipo de combustible utilizado por el vehículo (diésel, gasolina, eléctrico, híbrido).\n",
    "- **Potencia.** Potencia del motor del coche (puede estar en CV o kW).\n",
    "- **Trans.** Tipo de transmisión del coche (manual, automática).\n",
    "- **Forma de Pago.** Método de pago del cliente (financiado o contado).\n",
    "- **Estado Civil.** Estado civil del cliente (soltero, casado, divorciado, etc.).\n",
    "- **Género.** Género del cliente (masculino, femenino).\n",
    "- **Ocupación.** Profesión o sector de trabajo del cliente.\n",
    "- **Provincia.** Ubicación geográfica del cliente.\n",
    "- **Campanna1.** Historial de participación del cliente en la primera campaña de marketing.\n",
    "- **Campanna2.** Historial de participación del cliente en la segunda campaña de marketing.\n",
    "- **Campanna3.** Historial de participación del cliente en la tercera campaña de marketing.\n",
    "- **Zona Renta.** Clasificación de la zona de residencia del cliente según nivel de renta.\n",
    "- **REV Garantia.** Indica si el vehículo ha recibido revisiones dentro del período de garantía.\n",
    "- **Averia Grave.** Indica si el coche ha tenido alguna avería grave registrada.\n",
    "- **Queja CAC.** Indica si el cliente ha presentado quejas al servicio de atención al cliente.\n",
    "- **Coste Venta.** Precio final del coche después de aplicar descuentos.\n",
    "- **KM Año.** Promedio de kilómetros recorridos por año por el cliente.\n",
    "- **Más de 1 Coche.** Variable objetivo (1 si el cliente ha comprado más de un coche, 0 si no).\n",
    "- **Revisiones.** Número de revisiones del coche en concesionarios oficiales.\n",
    "- **Edad Cliente.** Edad actual del cliente en años.\n",
    "- **Tiempo.** Tiempo en años transcurridos entre la primera y la última compra del cliente."
   ]
  },
  {
   "cell_type": "code",
   "execution_count": 250,
   "metadata": {},
   "outputs": [
    {
     "data": {
      "text/html": [
       "<div>\n",
       "<style scoped>\n",
       "    .dataframe tbody tr th:only-of-type {\n",
       "        vertical-align: middle;\n",
       "    }\n",
       "\n",
       "    .dataframe tbody tr th {\n",
       "        vertical-align: top;\n",
       "    }\n",
       "\n",
       "    .dataframe thead th {\n",
       "        text-align: right;\n",
       "    }\n",
       "</style>\n",
       "<table border=\"1\" class=\"dataframe\">\n",
       "  <thead>\n",
       "    <tr style=\"text-align: right;\">\n",
       "      <th></th>\n",
       "      <th>PRODUCTO</th>\n",
       "      <th>TIPO_CARROCERIA</th>\n",
       "      <th>COMBUSTIBLE</th>\n",
       "      <th>Potencia</th>\n",
       "      <th>TRANS</th>\n",
       "      <th>FORMA_PAGO</th>\n",
       "      <th>ESTADO_CIVIL</th>\n",
       "      <th>GENERO</th>\n",
       "      <th>OcupaciOn</th>\n",
       "      <th>PROVINCIA</th>\n",
       "      <th>Campanna1</th>\n",
       "      <th>Campanna2</th>\n",
       "      <th>Campanna3</th>\n",
       "      <th>Zona_Renta</th>\n",
       "      <th>REV_Garantia</th>\n",
       "      <th>Averia_grave</th>\n",
       "      <th>QUEJA_CAC</th>\n",
       "      <th>COSTE_VENTA</th>\n",
       "      <th>km_anno</th>\n",
       "      <th>Mas_1_coche</th>\n",
       "      <th>Revisiones</th>\n",
       "      <th>Edad_Cliente</th>\n",
       "      <th>Tiempo</th>\n",
       "    </tr>\n",
       "    <tr>\n",
       "      <th>CODE</th>\n",
       "      <th></th>\n",
       "      <th></th>\n",
       "      <th></th>\n",
       "      <th></th>\n",
       "      <th></th>\n",
       "      <th></th>\n",
       "      <th></th>\n",
       "      <th></th>\n",
       "      <th></th>\n",
       "      <th></th>\n",
       "      <th></th>\n",
       "      <th></th>\n",
       "      <th></th>\n",
       "      <th></th>\n",
       "      <th></th>\n",
       "      <th></th>\n",
       "      <th></th>\n",
       "      <th></th>\n",
       "      <th></th>\n",
       "      <th></th>\n",
       "      <th></th>\n",
       "      <th></th>\n",
       "      <th></th>\n",
       "    </tr>\n",
       "  </thead>\n",
       "  <tbody>\n",
       "    <tr>\n",
       "      <th>CLI1</th>\n",
       "      <td>A</td>\n",
       "      <td>TIPO1</td>\n",
       "      <td>FUEL 1</td>\n",
       "      <td>Baja</td>\n",
       "      <td>M</td>\n",
       "      <td>Contado</td>\n",
       "      <td>CASADO</td>\n",
       "      <td>M</td>\n",
       "      <td>Empresa</td>\n",
       "      <td>Asturias</td>\n",
       "      <td>SI</td>\n",
       "      <td>NO</td>\n",
       "      <td>NO</td>\n",
       "      <td>Medio-Bajo</td>\n",
       "      <td>NO DATA</td>\n",
       "      <td>Averia muy grave</td>\n",
       "      <td>SI</td>\n",
       "      <td>2892</td>\n",
       "      <td>0</td>\n",
       "      <td>False</td>\n",
       "      <td>2</td>\n",
       "      <td>18</td>\n",
       "      <td>0</td>\n",
       "    </tr>\n",
       "    <tr>\n",
       "      <th>CLI2</th>\n",
       "      <td>A</td>\n",
       "      <td>TIPO1</td>\n",
       "      <td>FUEL 1</td>\n",
       "      <td>Baja</td>\n",
       "      <td>M</td>\n",
       "      <td>Contado</td>\n",
       "      <td>CASADO</td>\n",
       "      <td>F</td>\n",
       "      <td>Empresa</td>\n",
       "      <td>Toledo</td>\n",
       "      <td>NO</td>\n",
       "      <td>NO</td>\n",
       "      <td>NO</td>\n",
       "      <td>Medio-Bajo</td>\n",
       "      <td>SI</td>\n",
       "      <td>No</td>\n",
       "      <td>NO</td>\n",
       "      <td>1376</td>\n",
       "      <td>7187</td>\n",
       "      <td>False</td>\n",
       "      <td>2</td>\n",
       "      <td>53</td>\n",
       "      <td>0</td>\n",
       "    </tr>\n",
       "    <tr>\n",
       "      <th>CLI3</th>\n",
       "      <td>A</td>\n",
       "      <td>TIPO1</td>\n",
       "      <td>FUEL 1</td>\n",
       "      <td>Baja</td>\n",
       "      <td>M</td>\n",
       "      <td>Otros</td>\n",
       "      <td>CASADO</td>\n",
       "      <td>M</td>\n",
       "      <td>Empresa</td>\n",
       "      <td>Lerida</td>\n",
       "      <td>NO</td>\n",
       "      <td>NO</td>\n",
       "      <td>NO</td>\n",
       "      <td>Medio</td>\n",
       "      <td>NO DATA</td>\n",
       "      <td>No</td>\n",
       "      <td>NO</td>\n",
       "      <td>1376</td>\n",
       "      <td>0</td>\n",
       "      <td>True</td>\n",
       "      <td>4</td>\n",
       "      <td>21</td>\n",
       "      <td>3</td>\n",
       "    </tr>\n",
       "  </tbody>\n",
       "</table>\n",
       "</div>"
      ],
      "text/plain": [
       "     PRODUCTO TIPO_CARROCERIA COMBUSTIBLE Potencia TRANS FORMA_PAGO ESTADO_CIVIL GENERO OcupaciOn PROVINCIA Campanna1 Campanna2 Campanna3  Zona_Renta REV_Garantia      Averia_grave QUEJA_CAC  COSTE_VENTA  km_anno  Mas_1_coche  Revisiones  Edad_Cliente  Tiempo\n",
       "CODE                                                                                                                                                                                                                                                               \n",
       "CLI1        A           TIPO1      FUEL 1     Baja     M    Contado       CASADO      M   Empresa  Asturias        SI        NO        NO  Medio-Bajo      NO DATA  Averia muy grave        SI         2892        0        False           2            18       0\n",
       "CLI2        A           TIPO1      FUEL 1     Baja     M    Contado       CASADO      F   Empresa    Toledo        NO        NO        NO  Medio-Bajo           SI                No        NO         1376     7187        False           2            53       0\n",
       "CLI3        A           TIPO1      FUEL 1     Baja     M      Otros       CASADO      M   Empresa    Lerida        NO        NO        NO       Medio      NO DATA                No        NO         1376        0         True           4            21       3"
      ]
     },
     "execution_count": 250,
     "metadata": {},
     "output_type": "execute_result"
    }
   ],
   "source": [
    "df.head(3)"
   ]
  },
  {
   "cell_type": "markdown",
   "metadata": {},
   "source": [
    "## Limpieza de datos.\n",
    "Antes de construir un modelo de predicción, es fundamental asegurarnos de que los datos sean consistentes, completos y libres de errores. En esta sección, abordaremos la gestión de valores nulos y duplicados, dos problemas comunes en los datasets que pueden afectar el rendimiento del modelo y la calidad del análisis."
   ]
  },
  {
   "cell_type": "markdown",
   "metadata": {},
   "source": [
    "### Manejo de filas duplicadas.\n",
    "Los datos duplicados pueden sesgar los resultados y generar inconsistencias en el análisis. Aquí revisaremos si existen registros repetidos en el dataset y aplicaremos las estrategias necesarias para eliminarlos sin perder información relevante."
   ]
  },
  {
   "cell_type": "code",
   "execution_count": 251,
   "metadata": {},
   "outputs": [
    {
     "data": {
      "text/plain": [
       "np.int64(144)"
      ]
     },
     "execution_count": 251,
     "metadata": {},
     "output_type": "execute_result"
    }
   ],
   "source": [
    "df.duplicated().sum() # Columnas duplicadas"
   ]
  },
  {
   "cell_type": "code",
   "execution_count": 252,
   "metadata": {},
   "outputs": [],
   "source": [
    "df.drop_duplicates(inplace = True)"
   ]
  },
  {
   "cell_type": "code",
   "execution_count": 253,
   "metadata": {},
   "outputs": [
    {
     "data": {
      "text/plain": [
       "57905"
      ]
     },
     "execution_count": 253,
     "metadata": {},
     "output_type": "execute_result"
    }
   ],
   "source": [
    "df.shape[0] # Filas tras eliminar duplicados"
   ]
  },
  {
   "cell_type": "markdown",
   "metadata": {},
   "source": [
    "### Manejo de filas nulas.\n",
    "Los valores nulos pueden generar problemas en los modelos predictivos, especialmente si afectan variables clave. En este análisis, identificaremos las columnas con datos faltantes y aplicaremos estrategias como eliminación o imputación, dependiendo del impacto que puedan tener en el modelo."
   ]
  },
  {
   "cell_type": "code",
   "execution_count": 254,
   "metadata": {},
   "outputs": [
    {
     "data": {
      "text/plain": [
       "PRODUCTO               0\n",
       "TIPO_CARROCERIA        0\n",
       "COMBUSTIBLE            0\n",
       "Potencia               0\n",
       "TRANS                  0\n",
       "FORMA_PAGO             0\n",
       "ESTADO_CIVIL         890\n",
       "GENERO               860\n",
       "OcupaciOn              0\n",
       "PROVINCIA              0\n",
       "Campanna1              0\n",
       "Campanna2              0\n",
       "Campanna3              0\n",
       "Zona_Renta         13064\n",
       "REV_Garantia           0\n",
       "Averia_grave           1\n",
       "QUEJA_CAC              0\n",
       "COSTE_VENTA            0\n",
       "km_anno                0\n",
       "Mas_1_coche            0\n",
       "Revisiones             0\n",
       "Edad_Cliente           0\n",
       "Tiempo                 0\n",
       "dtype: int64"
      ]
     },
     "execution_count": 254,
     "metadata": {},
     "output_type": "execute_result"
    }
   ],
   "source": [
    "df.isnull().sum() # Valores nulos"
   ]
  },
  {
   "cell_type": "code",
   "execution_count": 255,
   "metadata": {},
   "outputs": [
    {
     "data": {
      "text/plain": [
       "ESTADO_CIVIL     1.537000\n",
       "GENERO           1.485191\n",
       "Zona_Renta      22.561091\n",
       "Averia_grave     0.001727\n",
       "dtype: float64"
      ]
     },
     "execution_count": 255,
     "metadata": {},
     "output_type": "execute_result"
    }
   ],
   "source": [
    "null_percentage = (df.isnull().sum() / len(df)) * 100 # Porcentaje de valores nulos\n",
    "null_percentage[null_percentage > 0]"
   ]
  },
  {
   "attachments": {
    "image.png": {
     "image/png": "[encoded data removed]"
    }
   },
   "cell_type": "markdown",
   "metadata": {},
   "source": [
    "El modelo de propensión tiene como objetivo **predecir qué clientes tienen más probabilidades de comprar más de un coche**, optimizando estrategias de marketing y ventas en la industria automotriz​. Para ello, es fundamental procesar correctamente los valores nulos en el dataset.\n",
    "- **Estado Civil.** El estado civil puede influir en la decisión de compra, ya que clientes casados o con familias podrían tener una mayor necesidad de adquirir más de un vehículo. Mantener esta variable en el modelo permite analizar si existe una tendencia en la compra de múltiples coches según el estado civil. En este caso, se recomienda **rellenar los valores nulos con la moda**.\n",
    "- **Género.** La segmentación por género podría revelar diferencias en el comportamiento de compra. Es posible que ciertos perfiles sean más propensos a la recompra. Se aplicará lo anterior para rellenar los valores nulos: **rellenar con la moda**.\n",
    "- **Zona Renta.** La zona de residencia de un cliente puede estar vinculada a su capacidad adquisitiva y, por lo tanto, a su propensión a comprar más de un coche.\n",
    "- **Averia Grave.** El porcentaje de nulos es insignificante, por lo que eliminarlas no afectará la calidad del dataset.\n",
    "\n",
    "![image.png](attachment:image.png)\n"
   ]
  },
  {
   "cell_type": "code",
   "execution_count": 256,
   "metadata": {},
   "outputs": [],
   "source": [
    "df.dropna(subset=['Averia_grave'], inplace=True)"
   ]
  },
  {
   "cell_type": "code",
   "execution_count": 257,
   "metadata": {},
   "outputs": [],
   "source": [
    "for col in [\"ESTADO_CIVIL\", \"GENERO\", \"Zona_Renta\"]:\n",
    "    df[col] = df[col].fillna(df[col].mode()[0])"
   ]
  },
  {
   "cell_type": "markdown",
   "metadata": {},
   "source": [
    "### **Selección de variables categóricas y continuas.**\n",
    "Para realizar correctamente un ánalisis de datos debemos de distinguir entre las variables categóricas, variables que representan diferentes categorías o grupos, y continuas, variables que pueden tomar cualquier valor dentro de un rango determinado."
   ]
  },
  {
   "cell_type": "code",
   "execution_count": 258,
   "metadata": {},
   "outputs": [
    {
     "name": "stdout",
     "output_type": "stream",
     "text": [
      "Variables continuas: COSTE_VENTA, km_anno, Revisiones, Edad_Cliente, Tiempo\n",
      "Variables categóricas: PRODUCTO, TIPO_CARROCERIA, COMBUSTIBLE, Potencia, TRANS, FORMA_PAGO, ESTADO_CIVIL, GENERO, OcupaciOn, PROVINCIA, Campanna1, Campanna2, Campanna3, Zona_Renta, REV_Garantia, Averia_grave, QUEJA_CAC, Mas_1_coche\n"
     ]
    }
   ],
   "source": [
    "v_continuas = []\n",
    "v_categoricas = []\n",
    "for i in df.columns:\n",
    "    if df[i].nunique() > 55 or df[i].dtypes in ['float64', 'int64']:\n",
    "        v_continuas.append(i)\n",
    "    else:\n",
    "        v_categoricas.append(i)\n",
    "\n",
    "print('Variables continuas: {}'.format(', '.join(v_continuas)))\n",
    "print('Variables categóricas: {}'.format(', '.join(v_categoricas)))"
   ]
  },
  {
   "cell_type": "markdown",
   "metadata": {},
   "source": [
    "#### **Tratamiento de variables categóricas.**\n",
    "Para el posterior modelo de clasificación, necesitamos codificar nuestras variables. Para ello, realizaremos una codificación ordinal que consiste en asignar valores enteros a las categorias basándose en su posición o jerarquía en los datos."
   ]
  },
  {
   "cell_type": "code",
   "execution_count": 259,
   "metadata": {},
   "outputs": [
    {
     "data": {
      "text/html": [
       "<div>\n",
       "<style scoped>\n",
       "    .dataframe tbody tr th:only-of-type {\n",
       "        vertical-align: middle;\n",
       "    }\n",
       "\n",
       "    .dataframe tbody tr th {\n",
       "        vertical-align: top;\n",
       "    }\n",
       "\n",
       "    .dataframe thead th {\n",
       "        text-align: right;\n",
       "    }\n",
       "</style>\n",
       "<table border=\"1\" class=\"dataframe\">\n",
       "  <thead>\n",
       "    <tr style=\"text-align: right;\">\n",
       "      <th></th>\n",
       "      <th>PRODUCTO</th>\n",
       "      <th>TIPO_CARROCERIA</th>\n",
       "      <th>COMBUSTIBLE</th>\n",
       "      <th>Potencia</th>\n",
       "      <th>TRANS</th>\n",
       "      <th>FORMA_PAGO</th>\n",
       "      <th>ESTADO_CIVIL</th>\n",
       "      <th>GENERO</th>\n",
       "      <th>OcupaciOn</th>\n",
       "      <th>PROVINCIA</th>\n",
       "      <th>Campanna1</th>\n",
       "      <th>Campanna2</th>\n",
       "      <th>Campanna3</th>\n",
       "      <th>Zona_Renta</th>\n",
       "      <th>REV_Garantia</th>\n",
       "      <th>Averia_grave</th>\n",
       "      <th>QUEJA_CAC</th>\n",
       "      <th>Mas_1_coche</th>\n",
       "    </tr>\n",
       "    <tr>\n",
       "      <th>CODE</th>\n",
       "      <th></th>\n",
       "      <th></th>\n",
       "      <th></th>\n",
       "      <th></th>\n",
       "      <th></th>\n",
       "      <th></th>\n",
       "      <th></th>\n",
       "      <th></th>\n",
       "      <th></th>\n",
       "      <th></th>\n",
       "      <th></th>\n",
       "      <th></th>\n",
       "      <th></th>\n",
       "      <th></th>\n",
       "      <th></th>\n",
       "      <th></th>\n",
       "      <th></th>\n",
       "      <th></th>\n",
       "    </tr>\n",
       "  </thead>\n",
       "  <tbody>\n",
       "    <tr>\n",
       "      <th>CLI1</th>\n",
       "      <td>A</td>\n",
       "      <td>TIPO1</td>\n",
       "      <td>FUEL 1</td>\n",
       "      <td>Baja</td>\n",
       "      <td>M</td>\n",
       "      <td>Contado</td>\n",
       "      <td>CASADO</td>\n",
       "      <td>M</td>\n",
       "      <td>Empresa</td>\n",
       "      <td>Asturias</td>\n",
       "      <td>SI</td>\n",
       "      <td>NO</td>\n",
       "      <td>NO</td>\n",
       "      <td>Medio-Bajo</td>\n",
       "      <td>NO DATA</td>\n",
       "      <td>Averia muy grave</td>\n",
       "      <td>SI</td>\n",
       "      <td>False</td>\n",
       "    </tr>\n",
       "    <tr>\n",
       "      <th>CLI2</th>\n",
       "      <td>A</td>\n",
       "      <td>TIPO1</td>\n",
       "      <td>FUEL 1</td>\n",
       "      <td>Baja</td>\n",
       "      <td>M</td>\n",
       "      <td>Contado</td>\n",
       "      <td>CASADO</td>\n",
       "      <td>F</td>\n",
       "      <td>Empresa</td>\n",
       "      <td>Toledo</td>\n",
       "      <td>NO</td>\n",
       "      <td>NO</td>\n",
       "      <td>NO</td>\n",
       "      <td>Medio-Bajo</td>\n",
       "      <td>SI</td>\n",
       "      <td>No</td>\n",
       "      <td>NO</td>\n",
       "      <td>False</td>\n",
       "    </tr>\n",
       "    <tr>\n",
       "      <th>CLI3</th>\n",
       "      <td>A</td>\n",
       "      <td>TIPO1</td>\n",
       "      <td>FUEL 1</td>\n",
       "      <td>Baja</td>\n",
       "      <td>M</td>\n",
       "      <td>Otros</td>\n",
       "      <td>CASADO</td>\n",
       "      <td>M</td>\n",
       "      <td>Empresa</td>\n",
       "      <td>Lerida</td>\n",
       "      <td>NO</td>\n",
       "      <td>NO</td>\n",
       "      <td>NO</td>\n",
       "      <td>Medio</td>\n",
       "      <td>NO DATA</td>\n",
       "      <td>No</td>\n",
       "      <td>NO</td>\n",
       "      <td>True</td>\n",
       "    </tr>\n",
       "  </tbody>\n",
       "</table>\n",
       "</div>"
      ],
      "text/plain": [
       "     PRODUCTO TIPO_CARROCERIA COMBUSTIBLE Potencia TRANS FORMA_PAGO ESTADO_CIVIL GENERO OcupaciOn PROVINCIA Campanna1 Campanna2 Campanna3  Zona_Renta REV_Garantia      Averia_grave QUEJA_CAC  Mas_1_coche\n",
       "CODE                                                                                                                                                                                                       \n",
       "CLI1        A           TIPO1      FUEL 1     Baja     M    Contado       CASADO      M   Empresa  Asturias        SI        NO        NO  Medio-Bajo      NO DATA  Averia muy grave        SI        False\n",
       "CLI2        A           TIPO1      FUEL 1     Baja     M    Contado       CASADO      F   Empresa    Toledo        NO        NO        NO  Medio-Bajo           SI                No        NO        False\n",
       "CLI3        A           TIPO1      FUEL 1     Baja     M      Otros       CASADO      M   Empresa    Lerida        NO        NO        NO       Medio      NO DATA                No        NO         True"
      ]
     },
     "execution_count": 259,
     "metadata": {},
     "output_type": "execute_result"
    }
   ],
   "source": [
    "df[v_categoricas].head(3)"
   ]
  },
  {
   "cell_type": "code",
   "execution_count": 260,
   "metadata": {},
   "outputs": [
    {
     "data": {
      "text/plain": [
       "PRODUCTO           11\n",
       "TIPO_CARROCERIA     8\n",
       "COMBUSTIBLE         2\n",
       "Potencia            3\n",
       "TRANS               2\n",
       "FORMA_PAGO          4\n",
       "ESTADO_CIVIL        4\n",
       "GENERO              2\n",
       "OcupaciOn           3\n",
       "PROVINCIA          53\n",
       "Campanna1           2\n",
       "Campanna2           2\n",
       "Campanna3           2\n",
       "Zona_Renta          4\n",
       "REV_Garantia        2\n",
       "Averia_grave        4\n",
       "QUEJA_CAC           2\n",
       "Mas_1_coche         2\n",
       "dtype: int64"
      ]
     },
     "execution_count": 260,
     "metadata": {},
     "output_type": "execute_result"
    }
   ],
   "source": [
    "df[v_categoricas].nunique()"
   ]
  },
  {
   "cell_type": "code",
   "execution_count": 261,
   "metadata": {},
   "outputs": [
    {
     "data": {
      "text/html": [
       "<div>\n",
       "<style scoped>\n",
       "    .dataframe tbody tr th:only-of-type {\n",
       "        vertical-align: middle;\n",
       "    }\n",
       "\n",
       "    .dataframe tbody tr th {\n",
       "        vertical-align: top;\n",
       "    }\n",
       "\n",
       "    .dataframe thead th {\n",
       "        text-align: right;\n",
       "    }\n",
       "</style>\n",
       "<table border=\"1\" class=\"dataframe\">\n",
       "  <thead>\n",
       "    <tr style=\"text-align: right;\">\n",
       "      <th></th>\n",
       "      <th>PRODUCTO</th>\n",
       "      <th>TIPO_CARROCERIA</th>\n",
       "      <th>COMBUSTIBLE</th>\n",
       "      <th>Potencia</th>\n",
       "      <th>TRANS</th>\n",
       "      <th>FORMA_PAGO</th>\n",
       "      <th>ESTADO_CIVIL</th>\n",
       "      <th>GENERO</th>\n",
       "      <th>OcupaciOn</th>\n",
       "      <th>PROVINCIA</th>\n",
       "      <th>Campanna1</th>\n",
       "      <th>Campanna2</th>\n",
       "      <th>Campanna3</th>\n",
       "      <th>Zona_Renta</th>\n",
       "      <th>REV_Garantia</th>\n",
       "      <th>Averia_grave</th>\n",
       "      <th>QUEJA_CAC</th>\n",
       "      <th>Mas_1_coche</th>\n",
       "    </tr>\n",
       "  </thead>\n",
       "  <tbody>\n",
       "    <tr>\n",
       "      <th>count</th>\n",
       "      <td>57904</td>\n",
       "      <td>57904</td>\n",
       "      <td>57904</td>\n",
       "      <td>57904</td>\n",
       "      <td>57904</td>\n",
       "      <td>57904</td>\n",
       "      <td>57904</td>\n",
       "      <td>57904</td>\n",
       "      <td>57904</td>\n",
       "      <td>57904</td>\n",
       "      <td>57904</td>\n",
       "      <td>57904</td>\n",
       "      <td>57904</td>\n",
       "      <td>57904</td>\n",
       "      <td>57904</td>\n",
       "      <td>57904</td>\n",
       "      <td>57904</td>\n",
       "      <td>57904</td>\n",
       "    </tr>\n",
       "    <tr>\n",
       "      <th>unique</th>\n",
       "      <td>11</td>\n",
       "      <td>8</td>\n",
       "      <td>2</td>\n",
       "      <td>3</td>\n",
       "      <td>2</td>\n",
       "      <td>4</td>\n",
       "      <td>4</td>\n",
       "      <td>2</td>\n",
       "      <td>3</td>\n",
       "      <td>53</td>\n",
       "      <td>2</td>\n",
       "      <td>2</td>\n",
       "      <td>2</td>\n",
       "      <td>4</td>\n",
       "      <td>2</td>\n",
       "      <td>4</td>\n",
       "      <td>2</td>\n",
       "      <td>2</td>\n",
       "    </tr>\n",
       "    <tr>\n",
       "      <th>top</th>\n",
       "      <td>B</td>\n",
       "      <td>TIPO1</td>\n",
       "      <td>FUEL 2</td>\n",
       "      <td>Media</td>\n",
       "      <td>M</td>\n",
       "      <td>Contado</td>\n",
       "      <td>CASADO</td>\n",
       "      <td>M</td>\n",
       "      <td>Empresa</td>\n",
       "      <td>Madrid</td>\n",
       "      <td>NO</td>\n",
       "      <td>NO</td>\n",
       "      <td>NO</td>\n",
       "      <td>Alto</td>\n",
       "      <td>NO DATA</td>\n",
       "      <td>No</td>\n",
       "      <td>NO</td>\n",
       "      <td>False</td>\n",
       "    </tr>\n",
       "    <tr>\n",
       "      <th>freq</th>\n",
       "      <td>15982</td>\n",
       "      <td>23359</td>\n",
       "      <td>33012</td>\n",
       "      <td>39807</td>\n",
       "      <td>52830</td>\n",
       "      <td>30147</td>\n",
       "      <td>44284</td>\n",
       "      <td>40913</td>\n",
       "      <td>53118</td>\n",
       "      <td>10809</td>\n",
       "      <td>37348</td>\n",
       "      <td>50968</td>\n",
       "      <td>51019</td>\n",
       "      <td>30204</td>\n",
       "      <td>31867</td>\n",
       "      <td>29796</td>\n",
       "      <td>36128</td>\n",
       "      <td>40977</td>\n",
       "    </tr>\n",
       "  </tbody>\n",
       "</table>\n",
       "</div>"
      ],
      "text/plain": [
       "       PRODUCTO TIPO_CARROCERIA COMBUSTIBLE Potencia  TRANS FORMA_PAGO ESTADO_CIVIL GENERO OcupaciOn PROVINCIA Campanna1 Campanna2 Campanna3 Zona_Renta REV_Garantia Averia_grave QUEJA_CAC Mas_1_coche\n",
       "count     57904           57904       57904    57904  57904      57904        57904  57904     57904     57904     57904     57904     57904      57904        57904        57904     57904       57904\n",
       "unique       11               8           2        3      2          4            4      2         3        53         2         2         2          4            2            4         2           2\n",
       "top           B           TIPO1      FUEL 2    Media      M    Contado       CASADO      M   Empresa    Madrid        NO        NO        NO       Alto      NO DATA           No        NO       False\n",
       "freq      15982           23359       33012    39807  52830      30147        44284  40913     53118     10809     37348     50968     51019      30204        31867        29796     36128       40977"
      ]
     },
     "execution_count": 261,
     "metadata": {},
     "output_type": "execute_result"
    }
   ],
   "source": [
    "df[v_categoricas].describe()"
   ]
  },
  {
   "cell_type": "markdown",
   "metadata": {},
   "source": [
    "Antes de proceder con la codificación de las variables categóricas, es fundamental realizar una revisión de los valores únicos presentes en cada una de ellas. Este paso nos permite identificar posibles inconsistencias en los datos, como errores de escritura, diferencias en el formato o valores no esperados, que podrían afectar la calidad del modelo.\n",
    "\n",
    "Al analizar los valores únicos, podremos detectar y corregir errores, agrupar categorías similares si es necesario y definir la estrategia de codificación más adecuada. Una vez verificada la coherencia de los datos, aplicaremos **OrdinalEncoder** o **LabelEncoder** según corresponda, asegurando que las variables estén en el formato adecuado para su uso en el modelo predictivo."
   ]
  },
  {
   "cell_type": "code",
   "execution_count": 262,
   "metadata": {},
   "outputs": [
    {
     "name": "stdout",
     "output_type": "stream",
     "text": [
      "Valores únicos de las variables categóricas:\n",
      "- PRODUCTO: ['A' 'B' 'C' 'H' 'J' 'D' 'I' 'E' 'F' 'K' 'G']\n",
      "- TIPO_CARROCERIA: ['TIPO1' 'TIPO6' 'TIPO4' 'TIPO7' 'TIPO8' 'TIPO2' 'TIPO3' 'TIPO5']\n",
      "- COMBUSTIBLE: ['FUEL 1' 'FUEL 2']\n",
      "- Potencia: ['Baja' 'Media' 'Alta']\n",
      "- TRANS: ['M' 'A']\n",
      "- FORMA_PAGO: ['Contado' 'Otros' 'Financiera Marca' 'Financiera Banco']\n",
      "- ESTADO_CIVIL: ['CASADO' 'SOLTERO' 'OTROS' 'EN PAREJA']\n",
      "- GENERO: ['M' 'F']\n",
      "- OcupaciOn: ['Empresa' 'Funcionario' 'Autonomo']\n",
      "- PROVINCIA: ['Asturias' 'Toledo' 'Lerida' 'Madrid' 'Santa Cruz de Tenerife'\n",
      " 'Pontevedra' 'Lacoruna' 'Barcelona' 'Cordoba' 'Guipuzcua' 'Valladolid'\n",
      " 'Castellon' 'Valencia' 'Las Palmas' 'La Rioja' 'Baleares' 'Zaragoza'\n",
      " 'Alicante' 'Tarragona' 'Leon' 'Lugo' 'Badajoz' 'Vizcaya' 'Sevilla'\n",
      " 'Guadalajara' 'Ciudad Real' 'Cantabria' 'Orense' 'Navarra' 'Gerona'\n",
      " 'Malaga' 'Jaen' 'Murcia' 'Burgos' 'Granada' 'Alava' 'Cuenca' 'Cadiz'\n",
      " 'Salamanca' 'Albacete' 'Almeria' 'Teruel' 'Segovia' 'Palencia' 'Huelva'\n",
      " 'Huesca' 'Zamora' 'Avila' 'Soria' 'Caceres' 'Melilla' 'Ceuta' 'Francia']\n",
      "- Campanna1: ['SI' 'NO']\n",
      "- Campanna2: ['NO' 'SI']\n",
      "- Campanna3: ['NO' 'SI']\n",
      "- Zona_Renta: ['Medio-Bajo' 'Medio' 'Alto' 'Otros']\n",
      "- REV_Garantia: ['NO DATA' 'SI']\n",
      "- Averia_grave: ['Averia muy grave' 'No' 'Averia leve' 'Averia grave']\n",
      "- QUEJA_CAC: ['SI' 'NO']\n",
      "- Mas_1_coche: [False  True]\n"
     ]
    }
   ],
   "source": [
    "print('Valores únicos de las variables categóricas:')\n",
    "for col in v_categoricas:\n",
    "    print(f\"- {col}: {df[col].unique()}\")"
   ]
  },
  {
   "cell_type": "markdown",
   "metadata": {},
   "source": [
    "Para convertir las variables categóricas en un formato numérico adecuado, se aplicarán distintas estrategias de codificación según su naturaleza:\n",
    "- Se utilizará **OrdinalEncoder** en las variables que presentan un **orden lógico** en sus categorías:\n",
    "    - **Potencia:** Baja < Media < Alta.\n",
    "    - **Zona_Renta:** Medio-Bajo < Medio < Alto < Otros.\n",
    "    - **Averia_grave:** No < Averia leve < Averia grave < Averia muy grave.\n",
    "- Para el resto de las variables categóricas, que no tienen un orden inherente, se aplicará **LabelEncoder**, asegurando que cada categoría sea representada por un valor numérico sin introducir una jerarquía artificial."
   ]
  },
  {
   "cell_type": "markdown",
   "metadata": {},
   "source": [
    "##### **Variables con Orden Lógico (`OrdinalEncoder`).**\n",
    "Las siguientes variables tienen un orden lógico en sus categorías, por lo que utilizaremos **OrdinalEncoder** para mantener la relación jerárquica entre ellas. Se asignan valores numéricos respetando el orden jerárquico de las categorías."
   ]
  },
  {
   "cell_type": "code",
   "execution_count": 263,
   "metadata": {},
   "outputs": [],
   "source": [
    "# Definición del orden lógico de las variables ordinales.\n",
    "ordinal_cols = {\n",
    "    \"Potencia\": [\"Baja\", \"Media\", \"Alta\"],\n",
    "    \"Zona_Renta\": [\"Otros\", \"Medio-Bajo\", \"Medio\", \"Alto\"],\n",
    "    \"Averia_grave\": [\"No\", \"Averia leve\", \"Averia grave\", \"Averia muy grave\"]\n",
    "}"
   ]
  },
  {
   "cell_type": "code",
   "execution_count": 264,
   "metadata": {},
   "outputs": [],
   "source": [
    "ordinal_encoder = OrdinalEncoder(categories=[ordinal_cols[col] for col in ordinal_cols])\n",
    "df[list(ordinal_cols.keys())] = ordinal_encoder.fit_transform(df[list(ordinal_cols.keys())])"
   ]
  },
  {
   "cell_type": "markdown",
   "metadata": {},
   "source": [
    "##### **Variables sin Orden Específico (`LabelEncoder`).**\n",
    "Las siguientes variables son categóricas nominales, es decir, no presentan una relación jerárquica entre sus categorías. Para estas, utilizaremos **LabelEncoder**, que asignará un valor numérico arbitrario a cada categoría."
   ]
  },
  {
   "cell_type": "code",
   "execution_count": 265,
   "metadata": {},
   "outputs": [],
   "source": [
    "# Variables categóricas a codificar (solo restan las nominales)\n",
    "label_cols = [col for col in v_categoricas if df[col].dtype != \"float64\"]\n",
    "\n",
    "for i in label_cols: # Codificación de las variables categóricas nominales\n",
    "    le = LabelEncoder()\n",
    "    df[i] = le.fit_transform(df[i])"
   ]
  },
  {
   "cell_type": "markdown",
   "metadata": {},
   "source": [
    "#### **Tratamiento de variables continuas.**\n",
    "El preprocesamiento de variables continuas es una etapa clave para mejorar la calidad del modelo y garantizar que las características numéricas aporten información relevante. En este apartado, hemos abordado distintas técnicas para optimizar estas variables y reducir posibles sesgos en el análisis."
   ]
  },
  {
   "cell_type": "code",
   "execution_count": 266,
   "metadata": {},
   "outputs": [
    {
     "data": {
      "text/html": [
       "<div>\n",
       "<style scoped>\n",
       "    .dataframe tbody tr th:only-of-type {\n",
       "        vertical-align: middle;\n",
       "    }\n",
       "\n",
       "    .dataframe tbody tr th {\n",
       "        vertical-align: top;\n",
       "    }\n",
       "\n",
       "    .dataframe thead th {\n",
       "        text-align: right;\n",
       "    }\n",
       "</style>\n",
       "<table border=\"1\" class=\"dataframe\">\n",
       "  <thead>\n",
       "    <tr style=\"text-align: right;\">\n",
       "      <th></th>\n",
       "      <th>COSTE_VENTA</th>\n",
       "      <th>km_anno</th>\n",
       "      <th>Revisiones</th>\n",
       "      <th>Edad_Cliente</th>\n",
       "      <th>Tiempo</th>\n",
       "    </tr>\n",
       "    <tr>\n",
       "      <th>CODE</th>\n",
       "      <th></th>\n",
       "      <th></th>\n",
       "      <th></th>\n",
       "      <th></th>\n",
       "      <th></th>\n",
       "    </tr>\n",
       "  </thead>\n",
       "  <tbody>\n",
       "    <tr>\n",
       "      <th>CLI1</th>\n",
       "      <td>2892</td>\n",
       "      <td>0</td>\n",
       "      <td>2</td>\n",
       "      <td>18</td>\n",
       "      <td>0</td>\n",
       "    </tr>\n",
       "    <tr>\n",
       "      <th>CLI2</th>\n",
       "      <td>1376</td>\n",
       "      <td>7187</td>\n",
       "      <td>2</td>\n",
       "      <td>53</td>\n",
       "      <td>0</td>\n",
       "    </tr>\n",
       "    <tr>\n",
       "      <th>CLI3</th>\n",
       "      <td>1376</td>\n",
       "      <td>0</td>\n",
       "      <td>4</td>\n",
       "      <td>21</td>\n",
       "      <td>3</td>\n",
       "    </tr>\n",
       "  </tbody>\n",
       "</table>\n",
       "</div>"
      ],
      "text/plain": [
       "      COSTE_VENTA  km_anno  Revisiones  Edad_Cliente  Tiempo\n",
       "CODE                                                        \n",
       "CLI1         2892        0           2            18       0\n",
       "CLI2         1376     7187           2            53       0\n",
       "CLI3         1376        0           4            21       3"
      ]
     },
     "execution_count": 266,
     "metadata": {},
     "output_type": "execute_result"
    }
   ],
   "source": [
    "df[v_continuas].head(3)"
   ]
  },
  {
   "cell_type": "code",
   "execution_count": 267,
   "metadata": {},
   "outputs": [
    {
     "data": {
      "text/html": [
       "<div>\n",
       "<style scoped>\n",
       "    .dataframe tbody tr th:only-of-type {\n",
       "        vertical-align: middle;\n",
       "    }\n",
       "\n",
       "    .dataframe tbody tr th {\n",
       "        vertical-align: top;\n",
       "    }\n",
       "\n",
       "    .dataframe thead th {\n",
       "        text-align: right;\n",
       "    }\n",
       "</style>\n",
       "<table border=\"1\" class=\"dataframe\">\n",
       "  <thead>\n",
       "    <tr style=\"text-align: right;\">\n",
       "      <th></th>\n",
       "      <th>COSTE_VENTA</th>\n",
       "      <th>km_anno</th>\n",
       "      <th>Revisiones</th>\n",
       "      <th>Edad_Cliente</th>\n",
       "      <th>Tiempo</th>\n",
       "    </tr>\n",
       "  </thead>\n",
       "  <tbody>\n",
       "    <tr>\n",
       "      <th>count</th>\n",
       "      <td>57904.000000</td>\n",
       "      <td>57904.000000</td>\n",
       "      <td>57904.000000</td>\n",
       "      <td>57904.000000</td>\n",
       "      <td>57904.000000</td>\n",
       "    </tr>\n",
       "    <tr>\n",
       "      <th>mean</th>\n",
       "      <td>2540.657416</td>\n",
       "      <td>11832.042847</td>\n",
       "      <td>3.535559</td>\n",
       "      <td>47.362255</td>\n",
       "      <td>1.862497</td>\n",
       "    </tr>\n",
       "    <tr>\n",
       "      <th>std</th>\n",
       "      <td>1605.129977</td>\n",
       "      <td>10201.406504</td>\n",
       "      <td>2.527840</td>\n",
       "      <td>11.225932</td>\n",
       "      <td>3.093356</td>\n",
       "    </tr>\n",
       "    <tr>\n",
       "      <th>min</th>\n",
       "      <td>0.000000</td>\n",
       "      <td>0.000000</td>\n",
       "      <td>0.000000</td>\n",
       "      <td>18.000000</td>\n",
       "      <td>0.000000</td>\n",
       "    </tr>\n",
       "    <tr>\n",
       "      <th>25%</th>\n",
       "      <td>1595.000000</td>\n",
       "      <td>0.000000</td>\n",
       "      <td>1.000000</td>\n",
       "      <td>40.000000</td>\n",
       "      <td>0.000000</td>\n",
       "    </tr>\n",
       "    <tr>\n",
       "      <th>50%</th>\n",
       "      <td>2353.000000</td>\n",
       "      <td>11505.000000</td>\n",
       "      <td>3.000000</td>\n",
       "      <td>48.000000</td>\n",
       "      <td>0.000000</td>\n",
       "    </tr>\n",
       "    <tr>\n",
       "      <th>75%</th>\n",
       "      <td>3309.000000</td>\n",
       "      <td>17938.000000</td>\n",
       "      <td>5.000000</td>\n",
       "      <td>56.000000</td>\n",
       "      <td>4.000000</td>\n",
       "    </tr>\n",
       "    <tr>\n",
       "      <th>max</th>\n",
       "      <td>18455.000000</td>\n",
       "      <td>182331.000000</td>\n",
       "      <td>13.000000</td>\n",
       "      <td>71.000000</td>\n",
       "      <td>14.000000</td>\n",
       "    </tr>\n",
       "  </tbody>\n",
       "</table>\n",
       "</div>"
      ],
      "text/plain": [
       "        COSTE_VENTA        km_anno    Revisiones  Edad_Cliente        Tiempo\n",
       "count  57904.000000   57904.000000  57904.000000  57904.000000  57904.000000\n",
       "mean    2540.657416   11832.042847      3.535559     47.362255      1.862497\n",
       "std     1605.129977   10201.406504      2.527840     11.225932      3.093356\n",
       "min        0.000000       0.000000      0.000000     18.000000      0.000000\n",
       "25%     1595.000000       0.000000      1.000000     40.000000      0.000000\n",
       "50%     2353.000000   11505.000000      3.000000     48.000000      0.000000\n",
       "75%     3309.000000   17938.000000      5.000000     56.000000      4.000000\n",
       "max    18455.000000  182331.000000     13.000000     71.000000     14.000000"
      ]
     },
     "execution_count": 267,
     "metadata": {},
     "output_type": "execute_result"
    }
   ],
   "source": [
    "df[v_continuas].describe()"
   ]
  },
  {
   "attachments": {
    "image.png": {
     "image/png": "[encoded data removed]"
    }
   },
   "cell_type": "markdown",
   "metadata": {},
   "source": [
    "##### **Valores atípicos.**\n",
    "Los valores atípicos pueden afectar la estabilidad del modelo, distorsionar las predicciones y generar ruido en el análisis. Para detectarlos, utilizamos **boxplots** y aplicamos el método del **rango intercuartil (IQR)**, que nos permite identificar datos extremos en función de su dispersión.\n",
    "\n",
    "En este análisis, consideramos valores atípicos aquellos que se encuentran **fuera del rango definido entre el percentil 10 (`Q1`) y el percentil 90 (`Q3`)**, ajustando los límites para adaptarnos mejor a la distribución de los datos. Posteriormente, evaluaremos distintas estrategias para su tratamiento. Los resultados obtenidos a través de los **boxplots confirman las conclusiones del EDA**.\n",
    "\n",
    "![image.png](attachment:image.png)"
   ]
  },
  {
   "cell_type": "code",
   "execution_count": 268,
   "metadata": {},
   "outputs": [],
   "source": [
    "def outliers_IQR(df, cols):\n",
    "    outliers = {}\n",
    "    for col in cols:\n",
    "        Q1 = df[col].quantile(0.10)\n",
    "        Q3 = df[col].quantile(0.90)\n",
    "        IQR = Q3 - Q1\n",
    "        lower_bound = Q1 - 1.5 * IQR\n",
    "        upper_bound = Q3 + 1.5 * IQR\n",
    "        # Contar valores atípicos\n",
    "        outliers[col] = df[(df[col] < lower_bound) | (df[col] > upper_bound)][col].count()\n",
    "        # Eliminar outliers\n",
    "        df = df[(df[col] >= lower_bound) & (df[col] <= upper_bound)]\n",
    "    return df, outliers"
   ]
  },
  {
   "cell_type": "code",
   "execution_count": 269,
   "metadata": {},
   "outputs": [
    {
     "name": "stdout",
     "output_type": "stream",
     "text": [
      "Valores atípicos detectados:\n",
      "- COSTE_VENTA: 37\n",
      "- km_anno: 66\n",
      "- Revisiones: 0\n",
      "- Edad_Cliente: 0\n",
      "- Tiempo: 0\n"
     ]
    }
   ],
   "source": [
    "df, outliers_detectados = outliers_IQR(df, v_continuas)\n",
    "print(\"Valores atípicos detectados:\")\n",
    "for col, count in outliers_detectados.items():\n",
    "    print(f\"- {col}: {count}\")"
   ]
  },
  {
   "cell_type": "code",
   "execution_count": null,
   "metadata": {},
   "outputs": [
    {
     "data": {
      "text/plain": [
       "57801"
      ]
     },
     "execution_count": 272,
     "metadata": {},
     "output_type": "execute_result"
    }
   ],
   "source": [
    "df.shape[0] # Filas tras eliminar outliers."
   ]
  },
  {
   "cell_type": "markdown",
   "metadata": {},
   "source": [
    "## **Exportación del Dataset Final.**\n",
    "Tras completar el preprocesamiento de los datos, es necesario guardar el dataset limpio y transformado para su uso en el modelo de clasificación. En esta etapa, aseguramos que todas las variables estén correctamente codificadas, sin valores nulos ni atípicos, y listas para ser utilizadas en el entrenamiento del modelo. Exportaremos el dataset en **formato CSV** para facilitar su integración con los algoritmos de clasificación, asegurando que los datos sean accesibles de manera eficiente en futuras etapas del análisis."
   ]
  },
  {
   "cell_type": "code",
   "execution_count": 274,
   "metadata": {},
   "outputs": [],
   "source": [
    "df.to_csv('../data/processed/IA_PROPENSITY_TRAIN_v1.csv', index=False)"
   ]
  }
 ],
 "metadata": {
  "kernelspec": {
   "display_name": "env",
   "language": "python",
   "name": "python3"
  },
  "language_info": {
   "codemirror_mode": {
    "name": "ipython",
    "version": 3
   },
   "file_extension": ".py",
   "mimetype": "text/x-python",
   "name": "python",
   "nbconvert_exporter": "python",
   "pygments_lexer": "ipython3",
   "version": "3.9.13"
  }
 },
 "nbformat": 4,
 "nbformat_minor": 2
}
