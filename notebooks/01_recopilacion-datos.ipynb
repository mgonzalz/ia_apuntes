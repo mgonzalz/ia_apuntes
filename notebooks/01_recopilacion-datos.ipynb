{
 "cells": [
  {
   "cell_type": "markdown",
   "id": "5fbf2f2c",
   "metadata": {},
   "source": [
    "# **Recopilación de datos.**\n",
    "La recopilación de datos es una etapa fundamental en la construcción de cualquier modelo de predicción. En este notebook, aplicaremos técnicas para **limpiar y preparar el dataset** antes de su uso en el modelado y evaluación en el análisis exploratorio (EDA). Identificaremos la presencia de **valores nulos, datos duplicados, variables categóricas y valores atípicos**:\n",
    "- **Manejo de valores nulos** mediante eliminación o imputación.\n",
    "- **Eliminación de duplicados** para evitar sesgos en el modelo.\n",
    "- **Conversión y corrección de tipos de datos** para garantizar coherencia."
   ]
  },
  {
   "cell_type": "markdown",
   "id": "48df7884",
   "metadata": {},
   "source": [
    "## **Importación de librerías.**\n",
    "Se cargan las librerías necesarias (incluidas en el archivo `requirements.txt`) para trabajar con manipulación de datos y archivos."
   ]
  },
  {
   "cell_type": "code",
   "execution_count": 67,
   "id": "e6fd0200",
   "metadata": {},
   "outputs": [],
   "source": [
    "import pandas as pd\n",
    "from sklearn.preprocessing import OrdinalEncoder, LabelEncoder\n",
    "import seaborn as sns\n",
    "import matplotlib.pyplot as plt\n",
    "import math\n",
    "\n",
    "pd.set_option('display.max_columns', None)\n",
    "pd.set_option('display.width', 1000)"
   ]
  },
  {
   "cell_type": "markdown",
   "id": "063b4827",
   "metadata": {},
   "source": [
    "## **Importación e información de Dataframes.**"
   ]
  },
  {
   "cell_type": "code",
   "execution_count": 68,
   "id": "c4053cdd",
   "metadata": {},
   "outputs": [
    {
     "data": {
      "text/html": [
       "<div>\n",
       "<style scoped>\n",
       "    .dataframe tbody tr th:only-of-type {\n",
       "        vertical-align: middle;\n",
       "    }\n",
       "\n",
       "    .dataframe tbody tr th {\n",
       "        vertical-align: top;\n",
       "    }\n",
       "\n",
       "    .dataframe thead th {\n",
       "        text-align: right;\n",
       "    }\n",
       "</style>\n",
       "<table border=\"1\" class=\"dataframe\">\n",
       "  <thead>\n",
       "    <tr style=\"text-align: right;\">\n",
       "      <th></th>\n",
       "      <th>glucosa</th>\n",
       "      <th>colesterol</th>\n",
       "      <th>trigliceridos</th>\n",
       "      <th>hemoglobina</th>\n",
       "      <th>leucocitos</th>\n",
       "      <th>plaquetas</th>\n",
       "      <th>creatinina</th>\n",
       "      <th>diabetes</th>\n",
       "      <th>hipertension</th>\n",
       "      <th>obesidad</th>\n",
       "      <th>cancer</th>\n",
       "      <th>enfermedad_cardiaca</th>\n",
       "      <th>asma</th>\n",
       "      <th>epoc</th>\n",
       "      <th>mut_BRCA1</th>\n",
       "      <th>mut_TP53</th>\n",
       "      <th>mut_EGFR</th>\n",
       "      <th>mut_KRAS</th>\n",
       "      <th>mut_PIK3CA</th>\n",
       "      <th>mut_ALK</th>\n",
       "      <th>mut_BRAF</th>\n",
       "      <th>ingresos_mensuales</th>\n",
       "      <th>gastos_salud</th>\n",
       "      <th>seguro_salud</th>\n",
       "      <th>deudas</th>\n",
       "      <th>tipo_empleo</th>\n",
       "      <th>ayudas_publicas</th>\n",
       "      <th>fumador</th>\n",
       "      <th>alcohol</th>\n",
       "      <th>actividad_fisica</th>\n",
       "      <th>vive</th>\n",
       "      <th>edad</th>\n",
       "      <th>sexo</th>\n",
       "      <th>estado_civil</th>\n",
       "      <th>nivel_educativo</th>\n",
       "      <th>ocupacion</th>\n",
       "      <th>region</th>\n",
       "      <th>pais_nacimiento</th>\n",
       "      <th>codigo_postal</th>\n",
       "    </tr>\n",
       "    <tr>\n",
       "      <th>paciente_id</th>\n",
       "      <th></th>\n",
       "      <th></th>\n",
       "      <th></th>\n",
       "      <th></th>\n",
       "      <th></th>\n",
       "      <th></th>\n",
       "      <th></th>\n",
       "      <th></th>\n",
       "      <th></th>\n",
       "      <th></th>\n",
       "      <th></th>\n",
       "      <th></th>\n",
       "      <th></th>\n",
       "      <th></th>\n",
       "      <th></th>\n",
       "      <th></th>\n",
       "      <th></th>\n",
       "      <th></th>\n",
       "      <th></th>\n",
       "      <th></th>\n",
       "      <th></th>\n",
       "      <th></th>\n",
       "      <th></th>\n",
       "      <th></th>\n",
       "      <th></th>\n",
       "      <th></th>\n",
       "      <th></th>\n",
       "      <th></th>\n",
       "      <th></th>\n",
       "      <th></th>\n",
       "      <th></th>\n",
       "      <th></th>\n",
       "      <th></th>\n",
       "      <th></th>\n",
       "      <th></th>\n",
       "      <th></th>\n",
       "      <th></th>\n",
       "      <th></th>\n",
       "      <th></th>\n",
       "    </tr>\n",
       "  </thead>\n",
       "  <tbody>\n",
       "    <tr>\n",
       "      <th>P1000000</th>\n",
       "      <td>108.81</td>\n",
       "      <td>226.16</td>\n",
       "      <td>161.07</td>\n",
       "      <td>13.24</td>\n",
       "      <td>6.12</td>\n",
       "      <td>258.09</td>\n",
       "      <td>0.97</td>\n",
       "      <td>1</td>\n",
       "      <td>1</td>\n",
       "      <td>1</td>\n",
       "      <td>0</td>\n",
       "      <td>1</td>\n",
       "      <td>0</td>\n",
       "      <td>0</td>\n",
       "      <td>0</td>\n",
       "      <td>0</td>\n",
       "      <td>0</td>\n",
       "      <td>0</td>\n",
       "      <td>0</td>\n",
       "      <td>0</td>\n",
       "      <td>1</td>\n",
       "      <td>2699.72</td>\n",
       "      <td>450</td>\n",
       "      <td>1</td>\n",
       "      <td>0</td>\n",
       "      <td>Público</td>\n",
       "      <td>1</td>\n",
       "      <td>1</td>\n",
       "      <td>1</td>\n",
       "      <td>Baja</td>\n",
       "      <td>1</td>\n",
       "      <td>69</td>\n",
       "      <td>F</td>\n",
       "      <td>Viudo</td>\n",
       "      <td>Secundaria</td>\n",
       "      <td>Empleado</td>\n",
       "      <td>Centro</td>\n",
       "      <td>Indonesia</td>\n",
       "      <td>98471</td>\n",
       "    </tr>\n",
       "    <tr>\n",
       "      <th>P1000001</th>\n",
       "      <td>74.23</td>\n",
       "      <td>148.89</td>\n",
       "      <td>110.77</td>\n",
       "      <td>13.68</td>\n",
       "      <td>6.97</td>\n",
       "      <td>278.32</td>\n",
       "      <td>0.85</td>\n",
       "      <td>0</td>\n",
       "      <td>0</td>\n",
       "      <td>0</td>\n",
       "      <td>0</td>\n",
       "      <td>0</td>\n",
       "      <td>0</td>\n",
       "      <td>0</td>\n",
       "      <td>0</td>\n",
       "      <td>0</td>\n",
       "      <td>0</td>\n",
       "      <td>0</td>\n",
       "      <td>0</td>\n",
       "      <td>0</td>\n",
       "      <td>1</td>\n",
       "      <td>3403.55</td>\n",
       "      <td>150</td>\n",
       "      <td>1</td>\n",
       "      <td>0</td>\n",
       "      <td>Temporal</td>\n",
       "      <td>1</td>\n",
       "      <td>0</td>\n",
       "      <td>1</td>\n",
       "      <td>Moderada</td>\n",
       "      <td>0</td>\n",
       "      <td>32</td>\n",
       "      <td>M</td>\n",
       "      <td>Soltero</td>\n",
       "      <td>Universitaria</td>\n",
       "      <td>Autónomo</td>\n",
       "      <td>Sur</td>\n",
       "      <td>Brazil</td>\n",
       "      <td>23903</td>\n",
       "    </tr>\n",
       "    <tr>\n",
       "      <th>P1000002</th>\n",
       "      <td>88.61</td>\n",
       "      <td>177.53</td>\n",
       "      <td>91.93</td>\n",
       "      <td>12.76</td>\n",
       "      <td>7.54</td>\n",
       "      <td>245.35</td>\n",
       "      <td>1.59</td>\n",
       "      <td>0</td>\n",
       "      <td>0</td>\n",
       "      <td>0</td>\n",
       "      <td>0</td>\n",
       "      <td>0</td>\n",
       "      <td>0</td>\n",
       "      <td>1</td>\n",
       "      <td>0</td>\n",
       "      <td>0</td>\n",
       "      <td>0</td>\n",
       "      <td>0</td>\n",
       "      <td>0</td>\n",
       "      <td>0</td>\n",
       "      <td>0</td>\n",
       "      <td>2422.41</td>\n",
       "      <td>150</td>\n",
       "      <td>1</td>\n",
       "      <td>0</td>\n",
       "      <td>Desempleado</td>\n",
       "      <td>1</td>\n",
       "      <td>1</td>\n",
       "      <td>1</td>\n",
       "      <td>Baja</td>\n",
       "      <td>1</td>\n",
       "      <td>89</td>\n",
       "      <td>M</td>\n",
       "      <td>Viudo</td>\n",
       "      <td>Primaria</td>\n",
       "      <td>Desempleado</td>\n",
       "      <td>Norte</td>\n",
       "      <td>Saint Pierre and Miquelon</td>\n",
       "      <td>20094</td>\n",
       "    </tr>\n",
       "    <tr>\n",
       "      <th>P1000003</th>\n",
       "      <td>90.92</td>\n",
       "      <td>203.97</td>\n",
       "      <td>121.79</td>\n",
       "      <td>12.95</td>\n",
       "      <td>8.56</td>\n",
       "      <td>245.11</td>\n",
       "      <td>1.26</td>\n",
       "      <td>1</td>\n",
       "      <td>0</td>\n",
       "      <td>1</td>\n",
       "      <td>1</td>\n",
       "      <td>1</td>\n",
       "      <td>0</td>\n",
       "      <td>0</td>\n",
       "      <td>0</td>\n",
       "      <td>0</td>\n",
       "      <td>0</td>\n",
       "      <td>1</td>\n",
       "      <td>0</td>\n",
       "      <td>0</td>\n",
       "      <td>0</td>\n",
       "      <td>1695.42</td>\n",
       "      <td>450</td>\n",
       "      <td>1</td>\n",
       "      <td>0</td>\n",
       "      <td>Temporal</td>\n",
       "      <td>1</td>\n",
       "      <td>1</td>\n",
       "      <td>1</td>\n",
       "      <td>Baja</td>\n",
       "      <td>0</td>\n",
       "      <td>78</td>\n",
       "      <td>M</td>\n",
       "      <td>Viudo</td>\n",
       "      <td>Secundaria</td>\n",
       "      <td>Autónomo</td>\n",
       "      <td>Centro</td>\n",
       "      <td>Indonesia</td>\n",
       "      <td>55575</td>\n",
       "    </tr>\n",
       "    <tr>\n",
       "      <th>P1000004</th>\n",
       "      <td>69.17</td>\n",
       "      <td>154.33</td>\n",
       "      <td>78.34</td>\n",
       "      <td>12.34</td>\n",
       "      <td>8.20</td>\n",
       "      <td>234.44</td>\n",
       "      <td>0.88</td>\n",
       "      <td>0</td>\n",
       "      <td>0</td>\n",
       "      <td>0</td>\n",
       "      <td>0</td>\n",
       "      <td>0</td>\n",
       "      <td>0</td>\n",
       "      <td>0</td>\n",
       "      <td>0</td>\n",
       "      <td>0</td>\n",
       "      <td>0</td>\n",
       "      <td>0</td>\n",
       "      <td>0</td>\n",
       "      <td>0</td>\n",
       "      <td>0</td>\n",
       "      <td>1709.51</td>\n",
       "      <td>150</td>\n",
       "      <td>1</td>\n",
       "      <td>0</td>\n",
       "      <td>Temporal</td>\n",
       "      <td>1</td>\n",
       "      <td>1</td>\n",
       "      <td>1</td>\n",
       "      <td>Moderada</td>\n",
       "      <td>1</td>\n",
       "      <td>38</td>\n",
       "      <td>F</td>\n",
       "      <td>Soltero</td>\n",
       "      <td>Posgrado</td>\n",
       "      <td>Autónomo</td>\n",
       "      <td>Norte</td>\n",
       "      <td>Chile</td>\n",
       "      <td>20826</td>\n",
       "    </tr>\n",
       "  </tbody>\n",
       "</table>\n",
       "</div>"
      ],
      "text/plain": [
       "             glucosa  colesterol  trigliceridos  hemoglobina  leucocitos  plaquetas  creatinina  diabetes  hipertension  obesidad  cancer  enfermedad_cardiaca  asma  epoc  mut_BRCA1  mut_TP53  mut_EGFR  mut_KRAS  mut_PIK3CA  mut_ALK  mut_BRAF  ingresos_mensuales  gastos_salud  seguro_salud  deudas  tipo_empleo  ayudas_publicas  fumador  alcohol actividad_fisica  vive  edad sexo estado_civil nivel_educativo    ocupacion  region            pais_nacimiento  codigo_postal\n",
       "paciente_id                                                                                                                                                                                                                                                                                                                                                                                                                                                                             \n",
       "P1000000      108.81      226.16         161.07        13.24        6.12     258.09        0.97         1             1         1       0                    1     0     0          0         0         0         0           0        0         1             2699.72           450             1       0      Público                1        1        1             Baja     1    69    F        Viudo      Secundaria     Empleado  Centro                  Indonesia          98471\n",
       "P1000001       74.23      148.89         110.77        13.68        6.97     278.32        0.85         0             0         0       0                    0     0     0          0         0         0         0           0        0         1             3403.55           150             1       0     Temporal                1        0        1         Moderada     0    32    M      Soltero   Universitaria     Autónomo     Sur                     Brazil          23903\n",
       "P1000002       88.61      177.53          91.93        12.76        7.54     245.35        1.59         0             0         0       0                    0     0     1          0         0         0         0           0        0         0             2422.41           150             1       0  Desempleado                1        1        1             Baja     1    89    M        Viudo        Primaria  Desempleado   Norte  Saint Pierre and Miquelon          20094\n",
       "P1000003       90.92      203.97         121.79        12.95        8.56     245.11        1.26         1             0         1       1                    1     0     0          0         0         0         1           0        0         0             1695.42           450             1       0     Temporal                1        1        1             Baja     0    78    M        Viudo      Secundaria     Autónomo  Centro                  Indonesia          55575\n",
       "P1000004       69.17      154.33          78.34        12.34        8.20     234.44        0.88         0             0         0       0                    0     0     0          0         0         0         0           0        0         0             1709.51           150             1       0     Temporal                1        1        1         Moderada     1    38    F      Soltero        Posgrado     Autónomo   Norte                      Chile          20826"
      ]
     },
     "execution_count": 68,
     "metadata": {},
     "output_type": "execute_result"
    }
   ],
   "source": [
    "df = pd.read_csv('../data/raw/MONGO00_All.csv', index_col=0, decimal=',')\n",
    "df.head()"
   ]
  },
  {
   "cell_type": "code",
   "execution_count": 69,
   "id": "879037a8",
   "metadata": {},
   "outputs": [
    {
     "data": {
      "text/plain": [
       "(50000, 39)"
      ]
     },
     "execution_count": 69,
     "metadata": {},
     "output_type": "execute_result"
    }
   ],
   "source": [
    "df.shape"
   ]
  },
  {
   "cell_type": "code",
   "execution_count": 70,
   "id": "bf9bbbcc",
   "metadata": {},
   "outputs": [
    {
     "name": "stdout",
     "output_type": "stream",
     "text": [
      "<class 'pandas.core.frame.DataFrame'>\n",
      "Index: 50000 entries, P1000000 to P1049999\n",
      "Data columns (total 39 columns):\n",
      " #   Column               Non-Null Count  Dtype  \n",
      "---  ------               --------------  -----  \n",
      " 0   glucosa              50000 non-null  float64\n",
      " 1   colesterol           50000 non-null  float64\n",
      " 2   trigliceridos        50000 non-null  float64\n",
      " 3   hemoglobina          50000 non-null  float64\n",
      " 4   leucocitos           50000 non-null  float64\n",
      " 5   plaquetas            50000 non-null  float64\n",
      " 6   creatinina           50000 non-null  float64\n",
      " 7   diabetes             50000 non-null  int64  \n",
      " 8   hipertension         50000 non-null  int64  \n",
      " 9   obesidad             50000 non-null  int64  \n",
      " 10  cancer               50000 non-null  int64  \n",
      " 11  enfermedad_cardiaca  50000 non-null  int64  \n",
      " 12  asma                 50000 non-null  int64  \n",
      " 13  epoc                 50000 non-null  int64  \n",
      " 14  mut_BRCA1            50000 non-null  int64  \n",
      " 15  mut_TP53             50000 non-null  int64  \n",
      " 16  mut_EGFR             50000 non-null  int64  \n",
      " 17  mut_KRAS             50000 non-null  int64  \n",
      " 18  mut_PIK3CA           50000 non-null  int64  \n",
      " 19  mut_ALK              50000 non-null  int64  \n",
      " 20  mut_BRAF             50000 non-null  int64  \n",
      " 21  ingresos_mensuales   50000 non-null  float64\n",
      " 22  gastos_salud         50000 non-null  int64  \n",
      " 23  seguro_salud         50000 non-null  int64  \n",
      " 24  deudas               50000 non-null  int64  \n",
      " 25  tipo_empleo          50000 non-null  object \n",
      " 26  ayudas_publicas      50000 non-null  int64  \n",
      " 27  fumador              50000 non-null  int64  \n",
      " 28  alcohol              50000 non-null  int64  \n",
      " 29  actividad_fisica     50000 non-null  object \n",
      " 30  vive                 50000 non-null  int64  \n",
      " 31  edad                 50000 non-null  int64  \n",
      " 32  sexo                 50000 non-null  object \n",
      " 33  estado_civil         50000 non-null  object \n",
      " 34  nivel_educativo      50000 non-null  object \n",
      " 35  ocupacion            50000 non-null  object \n",
      " 36  region               50000 non-null  object \n",
      " 37  pais_nacimiento      50000 non-null  object \n",
      " 38  codigo_postal        50000 non-null  int64  \n",
      "dtypes: float64(8), int64(23), object(8)\n",
      "memory usage: 15.3+ MB\n"
     ]
    }
   ],
   "source": [
    "df.info()"
   ]
  },
  {
   "cell_type": "code",
   "execution_count": 71,
   "id": "46fdb184",
   "metadata": {},
   "outputs": [
    {
     "data": {
      "text/plain": [
       "Index(['glucosa', 'colesterol', 'trigliceridos', 'hemoglobina', 'leucocitos', 'plaquetas', 'creatinina', 'diabetes', 'hipertension', 'obesidad', 'cancer', 'enfermedad_cardiaca', 'asma', 'epoc', 'mut_BRCA1', 'mut_TP53', 'mut_EGFR', 'mut_KRAS', 'mut_PIK3CA', 'mut_ALK', 'mut_BRAF', 'ingresos_mensuales', 'gastos_salud', 'seguro_salud', 'deudas', 'tipo_empleo', 'ayudas_publicas', 'fumador', 'alcohol', 'actividad_fisica', 'vive', 'edad', 'sexo', 'estado_civil', 'nivel_educativo', 'ocupacion', 'region', 'pais_nacimiento', 'codigo_postal'], dtype='object')"
      ]
     },
     "execution_count": 71,
     "metadata": {},
     "output_type": "execute_result"
    }
   ],
   "source": [
    "df.columns"
   ]
  },
  {
   "cell_type": "markdown",
   "id": "322f8b89",
   "metadata": {},
   "source": [
    "El presente modelo de red neuronal tiene como objetivo **predecir la probabilidad de supervivencia** de un paciente (`vive = 1`) en base a un conjunto heterogéneo de variables clínicas, genéticas, socioeconómicas y demográficas. Cada grupo de variables aporta información complementaria que puede ser determinante para identificar patrones de riesgo. A continuación se describe el propósito específico de cada conjunto de variables dentro del modelo:\n",
    "1. **Variables bioquímicas:** Estas variables reflejan el estado fisiológico y metabólico del paciente en el momento del análisis. Son esenciales para evaluar alteraciones funcionales que pueden estar asociadas a condiciones críticas.\n",
    "    - `glucosa`, `colesterol`, `trigliceridos`: indicadores metabólicos relacionados con riesgo cardiovascular y complicaciones sistémicas.\n",
    "    - `hemoglobina`, `leucocitos`, `plaquetas`: marcadores hematológicos clave para detectar anemia, infecciones o problemas inmunológicos.\n",
    "    - `creatinina`: medida de función renal, importante en pacientes crónicos o polimedicados.\n",
    "\n",
    "    Estas variables deben ser tratadas como **predictoras continuas**, y **normalizadas** antes de introducirse en la red.\n",
    "\n",
    "2. **Variables clínicas:** Incluyen antecedentes y diagnósticos médicos relevantes, que afectan directamente al pronóstico del paciente.\n",
    "    - `diabetes`, `hipertension`, `obesidad`, `cancer`, `enfermedad_cardiaca`, `asma`, `epoc`: condiciones clínicas codificadas como binarias (presente/no presente), que influyen significativamente en el riesgo de mortalidad.\n",
    "\n",
    "    Estas variables actuarán como **factores de riesgo explícitos**, directamente introducibles en el modelo como **variables categóricas binarias**.\n",
    "\n",
    "3. **Variables genéticas:** Representan la presencia de mutaciones en genes asociados a riesgo oncológico o enfermedades crónicas.\n",
    "    - `mut_BRCA1`, `mut_TP53`, `mut_EGFR`, `mut_KRAS`, `mut_PIK3CA`, `mut_ALK`, `mut_BRAF`: presencia/ausencia de mutaciones genéticas, todas de tipo binario.\n",
    "\n",
    "    Se usarán como **indicadores moleculares de susceptibilidad o agresividad clínica**.\n",
    "\n",
    "4. **Variables socioeconómicas:** Estas variables permiten modelar el **contexto económico del paciente**, lo cual puede condicionar el acceso a cuidados, adherencia al tratamiento o exposición a factores de riesgo.\n",
    "    - `ingresos_mensuales`: nivel de ingresos del hogar (requiere limpieza y transformación numérica).\n",
    "    - `gastos_salud`, `deudas`: nivel de carga económica en salud o endeudamiento.\n",
    "    - `seguro_salud`, `ayudas_publicas`: cobertura de necesidades básicas y acceso a servicios.\n",
    "    - `tipo_empleo`: nivel de estabilidad laboral o exposición laboral (requiere codificación categórica).\n",
    "\n",
    "    Estas variables se utilizarán para enriquecer el modelo con información **social y financiera**, relevante en medicina personalizada.\n",
    "\n",
    "5. **Variables de estilo de vida:** Influyen directamente en el pronóstico, ya que reflejan **conductas de riesgo o factores protectores**.\n",
    "    - `fumador`, `alcohol`: consumo de sustancias nocivas.\n",
    "    - `actividad_fisica`: nivel de movilidad o ejercicio, que puede tener un efecto protector.\n",
    "\n",
    "    Estas variables se integrarán como **predictoras categóricas discretas**, especialmente útiles para ajustar perfiles de riesgo.\n",
    "\n",
    "6. **Variable objetivo**\n",
    "    - `vive`: variable binaria que indica si el paciente ha sobrevivido tras un periodo crítico. Esta es la **variable objetivo del modelo** y se utilizará para entrenamiento supervisado.\n",
    "\n",
    "7. **Variables demográficas y contexto:** Estas variables permiten contextualizar al paciente dentro de su entorno social y cultural, lo que puede afectar directa o indirectamente a su salud.\n",
    "    - `edad`: variable continua de alta relevancia clínica.\n",
    "    - `sexo`, `estado_civil`, `nivel_educativo`, `ocupacion`, `region`, `pais_nacimiento`, `codigo_postal`: variables categóricas con posible relación con factores estructurales de salud y mortalidad.\n",
    "\n",
    "    Se incorporarán al modelo con el objetivo de **detectar patrones diferenciales por perfil poblacional**.\n",
    "\n"
   ]
  },
  {
   "cell_type": "code",
   "execution_count": 72,
   "id": "bb9971dc",
   "metadata": {},
   "outputs": [
    {
     "data": {
      "text/html": [
       "<div>\n",
       "<style scoped>\n",
       "    .dataframe tbody tr th:only-of-type {\n",
       "        vertical-align: middle;\n",
       "    }\n",
       "\n",
       "    .dataframe tbody tr th {\n",
       "        vertical-align: top;\n",
       "    }\n",
       "\n",
       "    .dataframe thead th {\n",
       "        text-align: right;\n",
       "    }\n",
       "</style>\n",
       "<table border=\"1\" class=\"dataframe\">\n",
       "  <thead>\n",
       "    <tr style=\"text-align: right;\">\n",
       "      <th></th>\n",
       "      <th>glucosa</th>\n",
       "      <th>colesterol</th>\n",
       "      <th>trigliceridos</th>\n",
       "      <th>hemoglobina</th>\n",
       "      <th>leucocitos</th>\n",
       "      <th>plaquetas</th>\n",
       "      <th>creatinina</th>\n",
       "      <th>diabetes</th>\n",
       "      <th>hipertension</th>\n",
       "      <th>obesidad</th>\n",
       "      <th>cancer</th>\n",
       "      <th>enfermedad_cardiaca</th>\n",
       "      <th>asma</th>\n",
       "      <th>epoc</th>\n",
       "      <th>mut_BRCA1</th>\n",
       "      <th>mut_TP53</th>\n",
       "      <th>mut_EGFR</th>\n",
       "      <th>mut_KRAS</th>\n",
       "      <th>mut_PIK3CA</th>\n",
       "      <th>mut_ALK</th>\n",
       "      <th>mut_BRAF</th>\n",
       "      <th>ingresos_mensuales</th>\n",
       "      <th>gastos_salud</th>\n",
       "      <th>seguro_salud</th>\n",
       "      <th>deudas</th>\n",
       "      <th>tipo_empleo</th>\n",
       "      <th>ayudas_publicas</th>\n",
       "      <th>fumador</th>\n",
       "      <th>alcohol</th>\n",
       "      <th>actividad_fisica</th>\n",
       "      <th>vive</th>\n",
       "      <th>edad</th>\n",
       "      <th>sexo</th>\n",
       "      <th>estado_civil</th>\n",
       "      <th>nivel_educativo</th>\n",
       "      <th>ocupacion</th>\n",
       "      <th>region</th>\n",
       "      <th>pais_nacimiento</th>\n",
       "      <th>codigo_postal</th>\n",
       "    </tr>\n",
       "    <tr>\n",
       "      <th>paciente_id</th>\n",
       "      <th></th>\n",
       "      <th></th>\n",
       "      <th></th>\n",
       "      <th></th>\n",
       "      <th></th>\n",
       "      <th></th>\n",
       "      <th></th>\n",
       "      <th></th>\n",
       "      <th></th>\n",
       "      <th></th>\n",
       "      <th></th>\n",
       "      <th></th>\n",
       "      <th></th>\n",
       "      <th></th>\n",
       "      <th></th>\n",
       "      <th></th>\n",
       "      <th></th>\n",
       "      <th></th>\n",
       "      <th></th>\n",
       "      <th></th>\n",
       "      <th></th>\n",
       "      <th></th>\n",
       "      <th></th>\n",
       "      <th></th>\n",
       "      <th></th>\n",
       "      <th></th>\n",
       "      <th></th>\n",
       "      <th></th>\n",
       "      <th></th>\n",
       "      <th></th>\n",
       "      <th></th>\n",
       "      <th></th>\n",
       "      <th></th>\n",
       "      <th></th>\n",
       "      <th></th>\n",
       "      <th></th>\n",
       "      <th></th>\n",
       "      <th></th>\n",
       "      <th></th>\n",
       "    </tr>\n",
       "  </thead>\n",
       "  <tbody>\n",
       "    <tr>\n",
       "      <th>P1000000</th>\n",
       "      <td>108.81</td>\n",
       "      <td>226.16</td>\n",
       "      <td>161.07</td>\n",
       "      <td>13.24</td>\n",
       "      <td>6.12</td>\n",
       "      <td>258.09</td>\n",
       "      <td>0.97</td>\n",
       "      <td>1</td>\n",
       "      <td>1</td>\n",
       "      <td>1</td>\n",
       "      <td>0</td>\n",
       "      <td>1</td>\n",
       "      <td>0</td>\n",
       "      <td>0</td>\n",
       "      <td>0</td>\n",
       "      <td>0</td>\n",
       "      <td>0</td>\n",
       "      <td>0</td>\n",
       "      <td>0</td>\n",
       "      <td>0</td>\n",
       "      <td>1</td>\n",
       "      <td>2699.72</td>\n",
       "      <td>450</td>\n",
       "      <td>1</td>\n",
       "      <td>0</td>\n",
       "      <td>Público</td>\n",
       "      <td>1</td>\n",
       "      <td>1</td>\n",
       "      <td>1</td>\n",
       "      <td>Baja</td>\n",
       "      <td>1</td>\n",
       "      <td>69</td>\n",
       "      <td>F</td>\n",
       "      <td>Viudo</td>\n",
       "      <td>Secundaria</td>\n",
       "      <td>Empleado</td>\n",
       "      <td>Centro</td>\n",
       "      <td>Indonesia</td>\n",
       "      <td>98471</td>\n",
       "    </tr>\n",
       "    <tr>\n",
       "      <th>P1000001</th>\n",
       "      <td>74.23</td>\n",
       "      <td>148.89</td>\n",
       "      <td>110.77</td>\n",
       "      <td>13.68</td>\n",
       "      <td>6.97</td>\n",
       "      <td>278.32</td>\n",
       "      <td>0.85</td>\n",
       "      <td>0</td>\n",
       "      <td>0</td>\n",
       "      <td>0</td>\n",
       "      <td>0</td>\n",
       "      <td>0</td>\n",
       "      <td>0</td>\n",
       "      <td>0</td>\n",
       "      <td>0</td>\n",
       "      <td>0</td>\n",
       "      <td>0</td>\n",
       "      <td>0</td>\n",
       "      <td>0</td>\n",
       "      <td>0</td>\n",
       "      <td>1</td>\n",
       "      <td>3403.55</td>\n",
       "      <td>150</td>\n",
       "      <td>1</td>\n",
       "      <td>0</td>\n",
       "      <td>Temporal</td>\n",
       "      <td>1</td>\n",
       "      <td>0</td>\n",
       "      <td>1</td>\n",
       "      <td>Moderada</td>\n",
       "      <td>0</td>\n",
       "      <td>32</td>\n",
       "      <td>M</td>\n",
       "      <td>Soltero</td>\n",
       "      <td>Universitaria</td>\n",
       "      <td>Autónomo</td>\n",
       "      <td>Sur</td>\n",
       "      <td>Brazil</td>\n",
       "      <td>23903</td>\n",
       "    </tr>\n",
       "    <tr>\n",
       "      <th>P1000002</th>\n",
       "      <td>88.61</td>\n",
       "      <td>177.53</td>\n",
       "      <td>91.93</td>\n",
       "      <td>12.76</td>\n",
       "      <td>7.54</td>\n",
       "      <td>245.35</td>\n",
       "      <td>1.59</td>\n",
       "      <td>0</td>\n",
       "      <td>0</td>\n",
       "      <td>0</td>\n",
       "      <td>0</td>\n",
       "      <td>0</td>\n",
       "      <td>0</td>\n",
       "      <td>1</td>\n",
       "      <td>0</td>\n",
       "      <td>0</td>\n",
       "      <td>0</td>\n",
       "      <td>0</td>\n",
       "      <td>0</td>\n",
       "      <td>0</td>\n",
       "      <td>0</td>\n",
       "      <td>2422.41</td>\n",
       "      <td>150</td>\n",
       "      <td>1</td>\n",
       "      <td>0</td>\n",
       "      <td>Desempleado</td>\n",
       "      <td>1</td>\n",
       "      <td>1</td>\n",
       "      <td>1</td>\n",
       "      <td>Baja</td>\n",
       "      <td>1</td>\n",
       "      <td>89</td>\n",
       "      <td>M</td>\n",
       "      <td>Viudo</td>\n",
       "      <td>Primaria</td>\n",
       "      <td>Desempleado</td>\n",
       "      <td>Norte</td>\n",
       "      <td>Saint Pierre and Miquelon</td>\n",
       "      <td>20094</td>\n",
       "    </tr>\n",
       "  </tbody>\n",
       "</table>\n",
       "</div>"
      ],
      "text/plain": [
       "             glucosa  colesterol  trigliceridos  hemoglobina  leucocitos  plaquetas  creatinina  diabetes  hipertension  obesidad  cancer  enfermedad_cardiaca  asma  epoc  mut_BRCA1  mut_TP53  mut_EGFR  mut_KRAS  mut_PIK3CA  mut_ALK  mut_BRAF  ingresos_mensuales  gastos_salud  seguro_salud  deudas  tipo_empleo  ayudas_publicas  fumador  alcohol actividad_fisica  vive  edad sexo estado_civil nivel_educativo    ocupacion  region            pais_nacimiento  codigo_postal\n",
       "paciente_id                                                                                                                                                                                                                                                                                                                                                                                                                                                                             \n",
       "P1000000      108.81      226.16         161.07        13.24        6.12     258.09        0.97         1             1         1       0                    1     0     0          0         0         0         0           0        0         1             2699.72           450             1       0      Público                1        1        1             Baja     1    69    F        Viudo      Secundaria     Empleado  Centro                  Indonesia          98471\n",
       "P1000001       74.23      148.89         110.77        13.68        6.97     278.32        0.85         0             0         0       0                    0     0     0          0         0         0         0           0        0         1             3403.55           150             1       0     Temporal                1        0        1         Moderada     0    32    M      Soltero   Universitaria     Autónomo     Sur                     Brazil          23903\n",
       "P1000002       88.61      177.53          91.93        12.76        7.54     245.35        1.59         0             0         0       0                    0     0     1          0         0         0         0           0        0         0             2422.41           150             1       0  Desempleado                1        1        1             Baja     1    89    M        Viudo        Primaria  Desempleado   Norte  Saint Pierre and Miquelon          20094"
      ]
     },
     "execution_count": 72,
     "metadata": {},
     "output_type": "execute_result"
    }
   ],
   "source": [
    "df.head(3)"
   ]
  },
  {
   "cell_type": "markdown",
   "id": "7d35064e",
   "metadata": {},
   "source": [
    "## **Limpieza de datos.**\n",
    "Antes de construir una red neuronal, es fundamental asegurarnos de que los datos sean consistentes, completos y libres de errores. En esta sección, abordaremos la gestión de valores nulos y duplicados, dos problemas comunes en los datasets que pueden afectar el rendimiento del modelo y la calidad del análisis."
   ]
  },
  {
   "cell_type": "markdown",
   "id": "ae6242b0",
   "metadata": {},
   "source": [
    "### **Manejo de filas duplicadas.**\n",
    "Los datos duplicados pueden sesgar los resultados y generar inconsistencias en el análisis. Aquí revisaremos si existen registros repetidos en el dataset y aplicaremos las estrategias necesarias para eliminarlos sin perder información relevante."
   ]
  },
  {
   "cell_type": "code",
   "execution_count": 73,
   "id": "2250e0d0",
   "metadata": {},
   "outputs": [
    {
     "data": {
      "text/plain": [
       "0"
      ]
     },
     "execution_count": 73,
     "metadata": {},
     "output_type": "execute_result"
    }
   ],
   "source": [
    "df.duplicated().sum() # Columnas duplicadas"
   ]
  },
  {
   "cell_type": "code",
   "execution_count": 74,
   "id": "c68f87a3",
   "metadata": {},
   "outputs": [],
   "source": [
    "df.drop_duplicates(inplace = True)"
   ]
  },
  {
   "cell_type": "code",
   "execution_count": 75,
   "id": "3c4a3c02",
   "metadata": {},
   "outputs": [
    {
     "data": {
      "text/plain": [
       "50000"
      ]
     },
     "execution_count": 75,
     "metadata": {},
     "output_type": "execute_result"
    }
   ],
   "source": [
    "df.shape[0] # Filas tras eliminar duplicados"
   ]
  },
  {
   "cell_type": "markdown",
   "id": "f5d42406",
   "metadata": {},
   "source": [
    "### **Manejo de filas nulas.**\n",
    "Los valores nulos pueden generar problemas en las redes neuronales, especialmente si afectan variables clave. En este análisis, identificaremos las columnas con datos faltantes y aplicaremos estrategias como eliminación o imputación, dependiendo del impacto que puedan tener en el modelo."
   ]
  },
  {
   "cell_type": "code",
   "execution_count": 76,
   "id": "d2a658cd",
   "metadata": {},
   "outputs": [
    {
     "data": {
      "text/plain": [
       "glucosa                0\n",
       "colesterol             0\n",
       "trigliceridos          0\n",
       "hemoglobina            0\n",
       "leucocitos             0\n",
       "plaquetas              0\n",
       "creatinina             0\n",
       "diabetes               0\n",
       "hipertension           0\n",
       "obesidad               0\n",
       "cancer                 0\n",
       "enfermedad_cardiaca    0\n",
       "asma                   0\n",
       "epoc                   0\n",
       "mut_BRCA1              0\n",
       "mut_TP53               0\n",
       "mut_EGFR               0\n",
       "mut_KRAS               0\n",
       "mut_PIK3CA             0\n",
       "mut_ALK                0\n",
       "mut_BRAF               0\n",
       "ingresos_mensuales     0\n",
       "gastos_salud           0\n",
       "seguro_salud           0\n",
       "deudas                 0\n",
       "tipo_empleo            0\n",
       "ayudas_publicas        0\n",
       "fumador                0\n",
       "alcohol                0\n",
       "actividad_fisica       0\n",
       "vive                   0\n",
       "edad                   0\n",
       "sexo                   0\n",
       "estado_civil           0\n",
       "nivel_educativo        0\n",
       "ocupacion              0\n",
       "region                 0\n",
       "pais_nacimiento        0\n",
       "codigo_postal          0\n",
       "dtype: int64"
      ]
     },
     "execution_count": 76,
     "metadata": {},
     "output_type": "execute_result"
    }
   ],
   "source": [
    "df.isnull().sum() # Valores nulos"
   ]
  },
  {
   "cell_type": "markdown",
   "id": "cfc1be7f",
   "metadata": {},
   "source": [
    "#### **Errores ortográficos.**\n",
    "En muchos casos, los datos pueden contener caracteres incorrectos, como símbolos (`-`, `?`, `#`, `*`, etc.), diferencias en mayúsculas y espacios en blanco, lo que puede afectar el análisis y modelado. En esta sección, listamos los valores únicos de cada columna categórica para detectar inconsistencias o entradas incorrectas."
   ]
  },
  {
   "cell_type": "code",
   "execution_count": 77,
   "id": "d9367654",
   "metadata": {},
   "outputs": [
    {
     "name": "stdout",
     "output_type": "stream",
     "text": [
      "tipo_empleo : ['Público' 'Temporal' 'Desempleado' 'Privado' 'Autónomo']\n",
      "actividad_fisica : ['Baja' 'Moderada' 'Alta']\n",
      "sexo : ['F' 'M']\n",
      "estado_civil : ['Viudo' 'Soltero' 'Divorciado' 'Casado']\n",
      "nivel_educativo : ['Secundaria' 'Universitaria' 'Primaria' 'Posgrado']\n",
      "ocupacion : ['Empleado' 'Autónomo' 'Desempleado' 'Jubilado']\n",
      "region : ['Centro' 'Sur' 'Norte' 'Oeste' 'Este']\n",
      "pais_nacimiento : ['Indonesia' 'Brazil' 'Saint Pierre and Miquelon' 'Chile' 'Cuba'\n",
      " 'American Samoa' 'Montenegro' 'Cameroon' 'Barbados' 'Slovenia'\n",
      " 'Greenland' 'China' 'Somalia' 'Senegal' 'Korea' 'Palau' 'Swaziland'\n",
      " 'Antigua and Barbuda' 'Holy See (Vatican City State)' 'Netherlands'\n",
      " 'Equatorial Guinea' 'Samoa' 'Montserrat' 'San Marino' 'Cayman Islands'\n",
      " 'Malta' 'Tuvalu' 'Benin' 'United States of America' 'Bahamas'\n",
      " 'Cape Verde' 'Kazakhstan' 'French Guiana' 'Switzerland' \"Cote d'Ivoire\"\n",
      " 'Azerbaijan' 'Timor-Leste' 'Gibraltar' 'Vanuatu' 'Malawi'\n",
      " 'Saint Vincent and the Grenadines' 'Algeria' 'France' 'Honduras'\n",
      " 'Nigeria' 'Turkmenistan' 'Isle of Man' 'Fiji' 'Singapore' 'Kenya'\n",
      " 'Sweden' 'Qatar' 'Ethiopia' 'Panama' 'Gambia' 'Liechtenstein' 'Finland'\n",
      " 'Serbia' 'Kuwait' 'Iceland' 'Syrian Arab Republic' 'Australia' 'Greece'\n",
      " 'British Indian Ocean Territory (Chagos Archipelago)'\n",
      " 'Trinidad and Tobago' 'Guadeloupe' 'Dominica' 'Sierra Leone'\n",
      " 'Afghanistan' 'Canada' 'Israel' 'French Polynesia' 'Mongolia' 'Congo'\n",
      " 'Ghana' 'Portugal' 'Germany' 'Tunisia'\n",
      " 'South Georgia and the South Sandwich Islands' 'Solomon Islands' 'Guinea'\n",
      " 'Northern Mariana Islands' 'Norway' 'Zimbabwe' 'Russian Federation'\n",
      " 'Uzbekistan' 'Philippines' 'Brunei Darussalam' 'Cyprus'\n",
      " 'United States Virgin Islands' 'Paraguay' 'Eritrea' 'Bangladesh'\n",
      " 'Moldova' 'Nepal' 'Belarus' 'Guatemala' 'Tanzania' 'Albania'\n",
      " 'North Macedonia' 'Mexico' 'Christmas Island' 'Bhutan'\n",
      " 'Bosnia and Herzegovina' 'Saint Lucia' 'Guernsey' 'Poland' 'Austria'\n",
      " 'Armenia' 'Puerto Rico' 'Zambia' 'Sao Tome and Principe' 'Myanmar'\n",
      " 'Jersey' 'New Caledonia' 'Togo' 'Spain' 'Bermuda' 'Sudan' 'Pakistan'\n",
      " 'Turkey' 'Colombia' 'Denmark'\n",
      " 'Antarctica (the territory South of 60 deg S)' 'Bolivia' 'Faroe Islands'\n",
      " 'Madagascar' 'Luxembourg' 'New Zealand' 'Taiwan' 'Uruguay' 'Cambodia'\n",
      " 'United States Minor Outlying Islands' 'Angola' 'Suriname' 'Croatia'\n",
      " 'Wallis and Futuna' 'Italy' 'Saudi Arabia'\n",
      " 'Heard Island and McDonald Islands' 'Jordan' 'Georgia' 'Oman'\n",
      " 'Netherlands Antilles' 'Ireland' 'Svalbard & Jan Mayen Islands' 'Guyana'\n",
      " 'Venezuela' 'Comoros' 'Guam' 'Haiti' 'Reunion' 'Burkina Faso' 'Djibouti'\n",
      " 'Cocos (Keeling) Islands' 'French Southern Territories' 'Tokelau' 'Aruba'\n",
      " 'Iraq' 'British Virgin Islands' 'Andorra' 'Niue' 'Romania' 'Niger'\n",
      " 'Kiribati' 'Egypt' 'Bahrain' 'Japan' 'Ukraine' 'Thailand' 'Saint Helena'\n",
      " 'Mauritania' 'Belgium' 'Western Sahara' 'Martinique' 'Estonia' 'Ecuador'\n",
      " 'El Salvador' 'Argentina' 'Mali' 'Turks and Caicos Islands' 'Costa Rica'\n",
      " 'Vietnam' 'Saint Martin' 'Morocco' 'Micronesia' 'Liberia' 'Nauru'\n",
      " 'Norfolk Island' 'Lesotho' 'Kyrgyz Republic' 'Saint Barthelemy'\n",
      " 'Mozambique' 'Dominican Republic' 'Marshall Islands' 'Lithuania'\n",
      " 'Palestinian Territory' 'Seychelles' 'Sri Lanka'\n",
      " 'Slovakia (Slovak Republic)' 'Hungary' 'Gabon' 'Botswana'\n",
      " 'Falkland Islands (Malvinas)' 'South Africa' 'Tajikistan'\n",
      " 'Libyan Arab Jamahiriya' 'Tonga' 'Iran' 'Burundi' 'Pitcairn Islands'\n",
      " 'Nicaragua' 'Czech Republic' 'Latvia' 'Rwanda' 'Namibia' 'Grenada'\n",
      " 'Central African Republic' 'Hong Kong' 'Uganda' 'Anguilla' 'Malaysia'\n",
      " 'Papua New Guinea' 'Jamaica' 'Cook Islands' 'Monaco' 'Mauritius'\n",
      " 'Bulgaria' 'Lebanon' 'Saint Kitts and Nevis'\n",
      " \"Lao People's Democratic Republic\" 'Macao' 'Belize' 'Chad'\n",
      " 'Guinea-Bissau' 'Yemen' 'United Arab Emirates' 'India' 'United Kingdom'\n",
      " 'Maldives' 'Mayotte' 'Bouvet Island (Bouvetoya)' 'Peru']\n"
     ]
    }
   ],
   "source": [
    "for col in df.select_dtypes(include=['object']).columns:\n",
    "    print('{} : {}'.format(col,df[col].unique()))"
   ]
  },
  {
   "cell_type": "markdown",
   "id": "0e4d6824",
   "metadata": {},
   "source": [
    "Tras revisar los datos únicos de cada variable categórica, se observa que no existen registros con caracteres incorrectos o anomalías en la escritura. Esto indica que la calidad de los datos en estas columnas es adecuada y no requiere una limpieza adicional en términos de corrección de valores mal ingresados."
   ]
  },
  {
   "cell_type": "markdown",
   "id": "7d4a2a54",
   "metadata": {},
   "source": [
    "#### **Tratamiento de valores nulos.**"
   ]
  },
  {
   "cell_type": "code",
   "execution_count": 78,
   "id": "1b1b2412",
   "metadata": {},
   "outputs": [
    {
     "data": {
      "image/png": "[encoded data removed]",
      "text/plain": [
       "<Figure size 640x480 with 1 Axes>"
      ]
     },
     "metadata": {},
     "output_type": "display_data"
    }
   ],
   "source": [
    "sns.heatmap(df.isnull(), cbar=False, cmap=\"Blues\")\n",
    "plt.title(\"Mapa de valores nulos\")\n",
    "plt.show()"
   ]
  },
  {
   "cell_type": "markdown",
   "id": "f812be48",
   "metadata": {},
   "source": [
    "El mapa de calor generado permite visualizar de forma rápida la presencia de valores ausentes en el dataset. En este caso, el **heatmap de valores nulos indica que no se detectan celdas vacías en ninguna de las variables analizadas**, lo cual es una excelente señal para la calidad del dataset.\n",
    "\n",
    "Este resultado sugiere que el conjunto de datos:\n",
    "\n",
    "* **Está completo** en todas sus observacioneS.\n",
    "* **No requiere imputación** adicional ni eliminación de registros por ausencia de información.\n",
    "* **Está listo para continuar con el análisis exploratorio (EDA)** y la fase de feature engineering, al menos en lo relativo a la completitud estructural.\n",
    "\n",
    "Desde el punto de vista de completitud, el dataset se encuentra en condiciones óptimas para el modelado, aunque debe proseguirse con tareas de limpieza semántica y transformación de formatos."
   ]
  },
  {
   "cell_type": "code",
   "execution_count": 79,
   "id": "bc67b686",
   "metadata": {},
   "outputs": [
    {
     "data": {
      "text/plain": [
       "Series([], dtype: float64)"
      ]
     },
     "execution_count": 79,
     "metadata": {},
     "output_type": "execute_result"
    }
   ],
   "source": [
    "null_percentage = (df.isnull().sum() / len(df)) * 100 # Porcentaje de valores nulos\n",
    "null_percentage[null_percentage > 0]"
   ]
  },
  {
   "cell_type": "markdown",
   "id": "ae2123c6",
   "metadata": {},
   "source": [
    "### **Manejo de valores atípicos.**\n",
    "Los valores atípicos pueden afectar la estabilidad del modelo, distorsionar las predicciones y generar ruido en el análisis. Para detectarlos, utilizamos **boxplots** y aplicamos el método del **rango intercuartil (IQR)**, que nos permite identificar datos extremos en función de su dispersión.\n",
    "\n",
    "En este análisis, consideramos valores atípicos aquellos que se encuentran **fuera del rango definido entre el percentil 10 (`Q1`) y el percentil 90 (`Q3`)**, ajustando los límites para adaptarnos mejor a la distribución de los datos. Posteriormente, evaluaremos distintas estrategias para su tratamiento."
   ]
  },
  {
   "cell_type": "code",
   "execution_count": 80,
   "id": "ddd666b6",
   "metadata": {},
   "outputs": [
    {
     "data": {
      "image/png": "[encoded data removed]",
      "text/plain": [
       "<Figure size 1000x1000 with 11 Axes>"
      ]
     },
     "metadata": {},
     "output_type": "display_data"
    }
   ],
   "source": [
    "numeric_cols = [\n",
    "    col for col in df.select_dtypes(include=[\"number\"]).columns # Seleccionar columnas numéricas.\n",
    "    if df[col].nunique() > 2 # Filtrar columnas no binarias.\n",
    "]\n",
    "fig, axes = plt.subplots(nrows=math.ceil(len(numeric_cols) / 2), ncols=3, figsize=(10, 10))\n",
    "axes = axes.flatten()\n",
    "for i, col in enumerate(numeric_cols):\n",
    "    sns.boxplot(y=df[col], ax=axes[i])\n",
    "    axes[i].set_title(f\"Distribución de {col}\")\n",
    "    axes[i].set_ylabel(col)\n",
    "\n",
    "for j in range(i + 1, len(axes)): # Quitar ejes vacíos.\n",
    "    fig.delaxes(axes[j])\n",
    "plt.tight_layout()\n",
    "plt.show()"
   ]
  },
  {
   "cell_type": "markdown",
   "id": "9c12536c",
   "metadata": {},
   "source": [
    "El análisis exploratorio mediante boxplots revela la existencia de **valores extremos (outliers)** en varias de las variables numéricas, especialmente en los parámetros bioquímicos (glucosa, colesterol, triglicéridos, plaquetas), ingresos económicos y gastos en salud. Adicionalmente, el número de valores únicos en cada columna confirma que se trata de **variables continuas bien distribuidas**, sin discretización forzada.\n",
    "\n",
    "Sin embargo, aunque estos valores se alejan visualmente de la mediana, **no deben ser eliminados** del conjunto de datos por las siguientes razones:\n",
    "\n",
    "1. **Relevancia clínica**: Muchos de estos valores elevados pueden corresponder a pacientes con condiciones reales de alto riesgo (hiperglucemia, hipercolesterolemia, fallo renal, etc.), que son precisamente los casos más valiosos para un modelo de predicción de supervivencia. Su eliminación supondría una pérdida de información crítica.\n",
    "\n",
    "2. **Ausencia de errores evidentes**: No se detectan valores imposibles o fuera del rango fisiológico humano (como creatinina de 200 o edad negativa), lo que sugiere que los datos son verídicos y no contienen codificaciones erróneas.\n",
    "\n",
    "3. **Compatibilidad con redes neuronales**: Las redes neuronales son algoritmos capaces de modelar relaciones no lineales y de tolerar cierta variabilidad en los datos. El uso de técnicas como **escalado robusto** (`RobustScaler`) permite neutralizar el impacto desproporcionado de los outliers sin necesidad de eliminarlos.\n",
    "\n",
    "4. **Riesgo de sesgo por eliminación**: Quitar sistemáticamente los valores extremos puede inducir un sesgo de selección, ocultando casos clínicamente significativos y reduciendo la capacidad del modelo de generalizar ante escenarios reales.\n",
    "\n",
    "**Conclusión**: Aunque el análisis gráfico muestra valores atípicos, **estos serán conservados** en el dataset, ya que forman parte inherente del fenómeno clínico a modelar. Para evitar que afecten negativamente al entrenamiento, se aplicarán estrategias de preprocesamiento robusto como la **normalización mediante mediana y rango intercuartílico**."
   ]
  },
  {
   "cell_type": "code",
   "execution_count": 81,
   "id": "3f2427b1",
   "metadata": {},
   "outputs": [],
   "source": [
    "def outliers_IQR(df, cols):\n",
    "    outliers = {}\n",
    "    for col in cols:\n",
    "        Q1 = df[col].quantile(0.20)\n",
    "        Q3 = df[col].quantile(0.80)\n",
    "        IQR = Q3 - Q1\n",
    "        lower_bound = Q1 - 1.5 * IQR\n",
    "        upper_bound = Q3 + 1.5 * IQR\n",
    "        # Contar valores atípicos\n",
    "        outliers[col] = df[(df[col] < lower_bound) | (df[col] > upper_bound)][col].count()\n",
    "        # Eliminar outliers\n",
    "        df = df[(df[col] >= lower_bound) & (df[col] <= upper_bound)]\n",
    "    return df, outliers"
   ]
  },
  {
   "cell_type": "markdown",
   "id": "e1b5177f",
   "metadata": {},
   "source": [
    "A pesar de que se ha decidido **conservar los valores atípicos en la versión principal del dataset**, se propone como medida complementaria la **generación de una versión alternativa (`MONGO00_All_v2`)**, en la que se apliquen transformaciones de limpieza más estrictas, como la **winsorización o el recorte de outliers extremos**. Esta segunda versión permitirá evaluar la sensibilidad del modelo ante distintos tratamientos de los datos y facilitará experimentos comparativos durante la validación. A continuación, se incluye el código correspondiente para aplicar dicho tratamiento de forma controlada, garantizando la trazabilidad de los cambios realizados sobre el dataset original.\n"
   ]
  },
  {
   "cell_type": "code",
   "execution_count": 82,
   "id": "ea9f352a",
   "metadata": {},
   "outputs": [
    {
     "data": {
      "text/plain": [
       "'df, outliers_detectados = outliers_IQR(df, numeric_cols)\\nprint(\"Valores atípicos detectados:\")\\nfor col, count in outliers_detectados.items():\\n    print(f\"- {col}: {count}\")'"
      ]
     },
     "execution_count": 82,
     "metadata": {},
     "output_type": "execute_result"
    }
   ],
   "source": [
    "'''df, outliers_detectados = outliers_IQR(df, numeric_cols)\n",
    "print(\"Valores atípicos detectados:\")\n",
    "for col, count in outliers_detectados.items():\n",
    "    print(f\"- {col}: {count}\")'''"
   ]
  },
  {
   "cell_type": "code",
   "execution_count": 83,
   "id": "346af467",
   "metadata": {},
   "outputs": [
    {
     "data": {
      "text/plain": [
       "50000"
      ]
     },
     "execution_count": 83,
     "metadata": {},
     "output_type": "execute_result"
    }
   ],
   "source": [
    "df.shape[0] # Filas tras eliminar outliers."
   ]
  },
  {
   "cell_type": "markdown",
   "id": "ecd22c22",
   "metadata": {},
   "source": [
    "## **Exportación del Dataset Limpio.**\n",
    "Tras completar estas etapas, hemos asegurado que los datos sean consistentes, limpios y estructurados correctamente. Como siguiente paso, los datos serán almacenados en un formato adecuado, permitiendo futuras consultas, análisis o modelado sin necesidad de repetir el proceso de limpieza."
   ]
  },
  {
   "cell_type": "code",
   "execution_count": 84,
   "id": "bce6d4c3",
   "metadata": {},
   "outputs": [],
   "source": [
    "df.to_csv('../data/cleaned/MONGO00_All_v1.csv')"
   ]
  }
 ],
 "metadata": {
  "kernelspec": {
   "display_name": "env",
   "language": "python",
   "name": "python3"
  },
  "language_info": {
   "codemirror_mode": {
    "name": "ipython",
    "version": 3
   },
   "file_extension": ".py",
   "mimetype": "text/x-python",
   "name": "python",
   "nbconvert_exporter": "python",
   "pygments_lexer": "ipython3",
   "version": "3.10.9"
  }
 },
 "nbformat": 4,
 "nbformat_minor": 5
}
